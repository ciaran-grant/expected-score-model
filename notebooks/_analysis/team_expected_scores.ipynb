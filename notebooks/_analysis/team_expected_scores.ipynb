{
 "cells": [
  {
   "cell_type": "markdown",
   "metadata": {},
   "source": [
    "Expected Shot Aggregates for each Player\n",
    "\n",
    "- Player shots need to be aggregated for a sequence or possession.\n",
    "- Is there a maximum score of 6 for each possession?\n",
    "- What happens when someone scores a behind? Does the possession end?\n",
    "    - Define a possession as the whole time between each goal? Or until the opponents get the ball?\n"
   ]
  },
  {
   "cell_type": "code",
   "execution_count": null,
   "metadata": {},
   "outputs": [],
   "source": [
    "import pandas as pd\n",
    "import numpy as np\n",
    "import warnings\n",
    "\n",
    "warnings.filterwarnings('ignore')\n",
    "pd.set_option('display.max_columns', 500)"
   ]
  },
  {
   "cell_type": "markdown",
   "metadata": {},
   "source": [
    "Data"
   ]
  },
  {
   "cell_type": "code",
   "execution_count": null,
   "metadata": {},
   "outputs": [],
   "source": [
    "shots = pd.read_csv(r\"/Users/ciaran/Documents/Projects/AFL/git-repositories/expected-score-model/data/predictions/shots_xs_catboost.csv\")"
   ]
  },
  {
   "cell_type": "code",
   "execution_count": null,
   "metadata": {},
   "outputs": [],
   "source": [
    "shots['Year'] = shots['Match_ID'].apply(lambda x: int(x.split(\"_\")[1]))\n",
    "shots['Opponent'] = np.where(shots['Team'] == shots['Home_Team'], shots['Away_Team'], shots['Home_Team'])"
   ]
  },
  {
   "cell_type": "code",
   "execution_count": null,
   "metadata": {},
   "outputs": [],
   "source": [
    "shots['time_since_prev_shot'] = shots['Period_Duration'] - shots['Period_Duration'].shift(1)\n",
    "shots['prev_result'] = shots['result'].shift(1)\n",
    "shots['prev_team'] = shots['Team'].shift(1)\n",
    "shots['prev_xscore'] = shots['xscore'].shift(1)\n",
    "shots['prev_goal_probas'] = shots['goal_probas'].shift(1)\n",
    "shots['prev_behind_probas'] = shots['behind_probas'].shift(1)"
   ]
  },
  {
   "cell_type": "code",
   "execution_count": null,
   "metadata": {},
   "outputs": [],
   "source": [
    "shots.head()"
   ]
  },
  {
   "cell_type": "code",
   "execution_count": null,
   "metadata": {},
   "outputs": [],
   "source": [
    "shots['score'].sum(), shots['xscore'].sum()"
   ]
  },
  {
   "cell_type": "markdown",
   "metadata": {},
   "source": [
    "Trying to do conditional shots xscore"
   ]
  },
  {
   "cell_type": "code",
   "execution_count": null,
   "metadata": {},
   "outputs": [],
   "source": [
    "prev_result_behind = (shots['prev_result'] == 'behind')\n",
    "same_team_shot = (shots['prev_team'] == shots['Team'])\n",
    "prev_shot_time_seconds = 120\n",
    "short_time_since_prev_shot = (shots['time_since_prev_shot'] < prev_shot_time_seconds)\n",
    "\n",
    "shots['team_xscore'] = np.where(prev_result_behind & same_team_shot & short_time_since_prev_shot, shots['prev_behind_probas']*shots['xscore'], shots['xscore'])"
   ]
  },
  {
   "cell_type": "code",
   "execution_count": null,
   "metadata": {},
   "outputs": [],
   "source": [
    "shots[['score', 'xscore', 'team_xscore']].sum()"
   ]
  },
  {
   "cell_type": "markdown",
   "metadata": {},
   "source": [
    "Team Aggregations"
   ]
  },
  {
   "cell_type": "code",
   "execution_count": null,
   "metadata": {},
   "outputs": [],
   "source": [
    "def create_team_aggregation(shots, group: list):\n",
    "    \n",
    "    team_shots_groupby = shots.groupby(group).agg(\n",
    "        score_sum = ('score', 'sum'),\n",
    "        xscore_sum = ('xscore', 'sum'),\n",
    "        num_shots = ('score', 'size'),\n",
    "        num_games = ('Match_ID', 'nunique')\n",
    "    )\n",
    "    team_shots_groupby['score_per_shot'] = team_shots_groupby['score_sum'] / team_shots_groupby['num_shots']\n",
    "    team_shots_groupby['score_per_game'] = team_shots_groupby['score_sum'] / team_shots_groupby['num_games']\n",
    "\n",
    "    team_shots_groupby['xscore_per_shot'] = team_shots_groupby['xscore_sum'] / team_shots_groupby['num_shots']\n",
    "    team_shots_groupby['xscore_per_game'] = team_shots_groupby['xscore_sum'] / team_shots_groupby['num_games'] \n",
    "    \n",
    "    team_shots_groupby['shots_per_game'] = team_shots_groupby['num_shots'] / team_shots_groupby['num_games']   \n",
    "    \n",
    "    return team_shots_groupby"
   ]
  },
  {
   "cell_type": "markdown",
   "metadata": {},
   "source": [
    "Expected Scores Scored"
   ]
  },
  {
   "cell_type": "code",
   "execution_count": null,
   "metadata": {},
   "outputs": [],
   "source": [
    "xscore_year_groupby = create_team_aggregation(shots, group=['Year'])\n",
    "xscore_year_groupby"
   ]
  },
  {
   "cell_type": "code",
   "execution_count": null,
   "metadata": {},
   "outputs": [],
   "source": [
    "xscore_team_groupby = create_team_aggregation(shots, group=['Year', 'Team'])\n",
    "xscore_team_groupby"
   ]
  },
  {
   "cell_type": "code",
   "execution_count": null,
   "metadata": {},
   "outputs": [],
   "source": [
    "import matplotlib.pyplot as plt"
   ]
  },
  {
   "cell_type": "code",
   "execution_count": null,
   "metadata": {},
   "outputs": [],
   "source": [
    "xscore_team_groupby.describe()"
   ]
  },
  {
   "cell_type": "code",
   "execution_count": null,
   "metadata": {},
   "outputs": [],
   "source": [
    "fig, ax = plt.subplots()\n",
    "\n",
    "ax.scatter(x = xscore_team_groupby['xscore_per_shot'], y = xscore_team_groupby['num_shots'])"
   ]
  },
  {
   "cell_type": "markdown",
   "metadata": {},
   "source": [
    "Expected Scores Conceded"
   ]
  },
  {
   "cell_type": "code",
   "execution_count": null,
   "metadata": {},
   "outputs": [],
   "source": [
    "xconcede_team_groupby = create_team_aggregation(shots, group=['Year', 'Opponent'])\n",
    "xconcede_team_groupby"
   ]
  },
  {
   "cell_type": "code",
   "execution_count": null,
   "metadata": {},
   "outputs": [],
   "source": [
    "xconcede_team_groupby.describe()"
   ]
  },
  {
   "cell_type": "code",
   "execution_count": null,
   "metadata": {},
   "outputs": [],
   "source": [
    "fig, ax = plt.subplots()\n",
    "\n",
    "ax.scatter(x = xconcede_team_groupby['xscore_per_shot'], y = xconcede_team_groupby['num_shots'])"
   ]
  },
  {
   "cell_type": "markdown",
   "metadata": {},
   "source": [
    "Distribution of Scores v Concedes"
   ]
  },
  {
   "cell_type": "code",
   "execution_count": null,
   "metadata": {},
   "outputs": [],
   "source": [
    "import seaborn as sns"
   ]
  },
  {
   "cell_type": "code",
   "execution_count": null,
   "metadata": {},
   "outputs": [],
   "source": [
    "sns.kdeplot(xscore_team_groupby['xscore_per_game'], fill=True, label='For')\n",
    "sns.kdeplot(xconcede_team_groupby['xscore_per_game'], fill=True, label = 'Against')"
   ]
  },
  {
   "cell_type": "markdown",
   "metadata": {},
   "source": [
    "Team Expected Score Differences Plot"
   ]
  },
  {
   "cell_type": "code",
   "execution_count": null,
   "metadata": {},
   "outputs": [],
   "source": [
    "year = 2021\n",
    "xscore_team_groupby_year = xscore_team_groupby.loc[year].sort_values(by = 'xscore_per_game')\n",
    "xconcede_team_groupby_year = xconcede_team_groupby.loc[year].loc[xscore_team_groupby_year.index]"
   ]
  },
  {
   "cell_type": "code",
   "execution_count": null,
   "metadata": {},
   "outputs": [],
   "source": [
    "def set_colours_axes_ax(ax, facecolor, spine_colour, tick_colour, label_colour):\n",
    "    ax.set_facecolor(facecolor)\n",
    "    ax.spines[['top', 'right']].set_visible(False)\n",
    "    ax.spines[[\"left\", \"bottom\"]].set_color(spine_colour)\n",
    "    ax.tick_params(color=tick_colour, length=5, which=\"major\", labelsize=6, labelcolor=label_colour)\n",
    "\n",
    "    return ax\n",
    "\n",
    "def plot_team_xscore_difference_rank_ax(ax, xscore_team_groupby_year, xconcede_team_groupby_year):\n",
    "    \n",
    "    y = xscore_team_groupby_year.index\n",
    "\n",
    "    for i, team in enumerate(y):\n",
    "        \n",
    "        if xscore_team_groupby_year.iloc[i]['xscore_per_game'] > xconcede_team_groupby_year.iloc[i]['xscore_per_game']:\n",
    "            linecolor = 'green'\n",
    "        else:\n",
    "            linecolor = 'red'\n",
    "        ax.scatter(x=xscore_team_groupby_year.iloc[i]['xscore_per_game'], y=y[i], c=team_colours[team]['positive'], ec='w')\n",
    "        ax.scatter(x=xconcede_team_groupby_year.iloc[i]['xscore_per_game'], y=y[i], c=team_colours[team]['positive'], ec='w')\n",
    "        ax.hlines(i, xmin = xconcede_team_groupby_year.iloc[i]['xscore_per_game'], xmax=xscore_team_groupby_year.iloc[i]['xscore_per_game'], color=linecolor, linestyle='--', linewidth=1, zorder=-1)\n",
    "\n",
    "    ax = set_colours_axes_ax(ax, '#121212', 'white', 'white', 'white')\n",
    "    \n",
    "    return ax"
   ]
  },
  {
   "cell_type": "code",
   "execution_count": null,
   "metadata": {},
   "outputs": [],
   "source": [
    "fig, ax = plt.subplots()\n",
    "fig.set_facecolor('#121212')\n",
    "year = 2024\n",
    "xscore_team_groupby_year = xscore_team_groupby.loc[year].sort_values(by = 'xscore_per_game')\n",
    "xconcede_team_groupby_year = xconcede_team_groupby.loc[year].loc[xscore_team_groupby_year.index]\n",
    "ax = plot_team_xscore_difference_rank_ax(ax, xscore_team_groupby_year, xconcede_team_groupby_year)"
   ]
  },
  {
   "cell_type": "code",
   "execution_count": null,
   "metadata": {},
   "outputs": [],
   "source": [
    "xscore_team_groupby.swaplevel().loc['Brisbane']"
   ]
  },
  {
   "cell_type": "markdown",
   "metadata": {},
   "source": [
    "Team Specific Expected Score Differences"
   ]
  },
  {
   "cell_type": "code",
   "execution_count": null,
   "metadata": {},
   "outputs": [],
   "source": [
    "from highlight_text import ax_text"
   ]
  },
  {
   "cell_type": "code",
   "execution_count": null,
   "metadata": {},
   "outputs": [],
   "source": [
    "team = 'Brisbane'\n",
    "xscore_team_groupby_team = xscore_team_groupby.swaplevel().loc['Brisbane'].sort_values(by = 'xscore_per_game')\n",
    "xconcede_team_groupby_team = xconcede_team_groupby.swaplevel().loc['Brisbane'].loc[xscore_team_groupby_team.index]"
   ]
  },
  {
   "cell_type": "code",
   "execution_count": null,
   "metadata": {},
   "outputs": [],
   "source": [
    "fig, ax = plt.subplots()\n",
    "\n",
    "x = list(xconcede_team_groupby_team.index)\n",
    "ax.scatter(y=xscore_team_groupby_team['xscore_per_game'], x=x)\n",
    "ax.scatter(y=xconcede_team_groupby_team['xscore_per_game'], x=x)\n",
    "\n",
    "ax.set_xticks(x)"
   ]
  },
  {
   "cell_type": "markdown",
   "metadata": {},
   "source": [
    "Rolling Expected Score Difference Plots"
   ]
  },
  {
   "cell_type": "code",
   "execution_count": null,
   "metadata": {},
   "outputs": [],
   "source": [
    "shots['Round'] = shots['Match_ID'].apply(lambda x: x.split(\"_\")[2])\n",
    "shots['Round_ID'] = shots['Match_ID'].apply(lambda x: x.split(\"_\")[1] + x.split(\"_\")[2])"
   ]
  },
  {
   "cell_type": "code",
   "execution_count": null,
   "metadata": {},
   "outputs": [],
   "source": [
    "# TODO Rename this here and in `craete_rolling_team_expected_score_groupby`\n",
    "def _extracted_from_create_rolling_team_expected_score_groupby_3(shots, team, team_opp):\n",
    "    team_shots = shots[shots[team_opp] == team]\n",
    "    \n",
    "    if team_opp == 'Team':\n",
    "        result = team_shots.groupby('Round_ID')[['score', 'xscore']].sum().rename(columns = {\n",
    "            'score': 'score_for',\n",
    "            'xscore':'xscore_for'\n",
    "        })\n",
    "\n",
    "    else:\n",
    "        result = team_shots.groupby('Round_ID')[['score', 'xscore']].sum().rename(columns = {\n",
    "            'score': 'score_against',\n",
    "            'xscore':'xscore_against'\n",
    "        })\n",
    "        result.columns = ['score_against', 'xscore_against']\n",
    "\n",
    "    return result\n",
    "\n",
    "def create_rolling_team_expected_score_groupby(shots, team, rolling_window = 5):\n",
    "    \n",
    "    team_shots_groupby = (\n",
    "        _extracted_from_create_rolling_team_expected_score_groupby_3(\n",
    "            shots, team, 'Team'\n",
    "            )\n",
    "    )\n",
    "    opp_shots_groupby = (\n",
    "        _extracted_from_create_rolling_team_expected_score_groupby_3(\n",
    "            shots, team, 'Opponent'\n",
    "        )\n",
    "    )\n",
    "    rolling = team_shots_groupby.merge(opp_shots_groupby, left_index=True, right_index=True)\n",
    "\n",
    "    for col in rolling.columns:\n",
    "        rolling[f'{col}_rolling'] = (\n",
    "            rolling[col].rolling(window=rolling_window, min_periods=0).mean()\n",
    "        )\n",
    "        \n",
    "    rolling['diff_rolling'] = rolling['score_for_rolling'] - rolling['score_against_rolling']\n",
    "    rolling['xdiff_rolling'] = rolling['xscore_for_rolling'] - rolling['xscore_against_rolling']\n",
    "\n",
    "    for col in ['xscore_for', 'xscore_against']:\n",
    "        x = np.arange(len(rolling[col]))\n",
    "        trendline = np.polyfit(x, rolling[col], 1)\n",
    "        rolling[f'{col}_trend'] = np.polyval(trendline, x)\n",
    "    \n",
    "    return rolling"
   ]
  },
  {
   "cell_type": "markdown",
   "metadata": {},
   "source": [
    "Subplots for each team"
   ]
  },
  {
   "cell_type": "code",
   "execution_count": null,
   "metadata": {},
   "outputs": [],
   "source": [
    "from expected_score_model.visualisation.afl_colours import team_colours"
   ]
  },
  {
   "cell_type": "code",
   "execution_count": null,
   "metadata": {},
   "outputs": [],
   "source": [
    "import os\n",
    "import matplotlib.font_manager as fm\n"
   ]
  },
  {
   "cell_type": "code",
   "execution_count": null,
   "metadata": {},
   "outputs": [],
   "source": [
    "def load_fonts(font_path):\n",
    "    for x in os.listdir(font_path):\n",
    "        if x != \".DS_Store\":\n",
    "            for y in os.listdir(f\"{font_path}/{x}\"):\n",
    "                if y.split(\".\")[-1] == \"ttf\":\n",
    "                    fm.fontManager.addfont(f\"{font_path}/{x}/{y}\")\n",
    "                    try:\n",
    "                        fm.FontProperties(weight=y.split(\"-\")[-1].split(\".\")[0].lower(), fname=y.split(\"-\")[0])\n",
    "                    except Exception:\n",
    "                        continue\n",
    "font_path = r\"/Users/ciaran/Documents/Projects/AFL/git-repositories/expected-score-model/notebooks/visualisations/viz/fonts\"\n",
    "load_fonts(font_path)"
   ]
  },
  {
   "cell_type": "code",
   "execution_count": null,
   "metadata": {},
   "outputs": [],
   "source": [
    "import matplotlib.ticker as ticker"
   ]
  },
  {
   "cell_type": "code",
   "execution_count": null,
   "metadata": {},
   "outputs": [],
   "source": [
    "def set_colours_axes_ax(ax, facecolor, spine_colour, tick_colour, label_colour):\n",
    "    ax.set_facecolor(facecolor)\n",
    "    ax.spines[['top', 'right']].set_visible(False)\n",
    "    ax.spines[[\"left\", \"bottom\"]].set_color(spine_colour)\n",
    "    ax.tick_params(color=tick_colour, length=5, which=\"major\", labelsize=6, labelcolor=label_colour)\n",
    "    ax.xaxis.set_major_locator(ticker.MultipleLocator(10))\n",
    "    ax.yaxis.set_major_locator(ticker.MultipleLocator(10))\n",
    "    ax.set_ylim(0, 125)\n",
    "\n",
    "    return ax\n",
    "\n",
    "def get_team_colours(team):\n",
    "    return team_colours[team]['positive'], team_colours[team]['negative']\n",
    "\n",
    "def plot_rolling_lines_ax(ax, data, team, color_for, color_against):\n",
    "    line_for = ax.plot(data.index, data['xscore_for_rolling'], label = 'xscore_for_rolling', color = color_for, lw=1.5)\n",
    "    line_against = ax.plot(data.index, data['xscore_against_rolling'], label = 'xscore_against_rolling', color= color_against, lw=1.5)\n",
    "    return ax\n",
    "\n",
    "def plot_trend_lines_ax(ax, data, team, color_for, color_against):\n",
    "    line_for = ax.plot(data.index, data['xscore_for_trend'], label = 'xscore_for_trend', color = color_for, lw=1.5, alpha = 0.5, ls = '--')\n",
    "    line_against = ax.plot(data.index, data['xscore_against_trend'], label = 'xscore_against_trend', color= color_against, lw=1.5, ls='--', alpha = 0.5)\n",
    "    return ax\n",
    "\n",
    "def plot_fill_between_ax(ax, data, team, color_for, color_against):\n",
    "    ax.fill_between(data.index, data['xscore_against_rolling'], data['xscore_for_rolling'], where = data['xscore_for_rolling'] > data['xscore_against_rolling'], interpolate=True, alpha=0.5, zorder=3, color=color_for)\n",
    "    ax.fill_between(data.index, data['xscore_against_rolling'], data['xscore_for_rolling'], where = data['xscore_against_rolling'] >= data['xscore_for_rolling'], interpolate=True, alpha=0.5, zorder=3, color=color_against)\n",
    "    return ax\n",
    "\n",
    "def plot_lines_ax(ax, data, team, color_for, color_against, fill = False, trend = False):\n",
    "    \n",
    "    ax = plot_rolling_lines_ax(ax, data, team, color_for, color_against)\n",
    "\n",
    "    if trend:\n",
    "        ax = plot_trend_lines_ax(ax, data, team, color_for, color_against)\n",
    "\n",
    "    if fill:\n",
    "        ax = plot_fill_between_ax(ax, data, team, color_for, color_against)\n",
    "        \n",
    "    return ax\n",
    "\n",
    "def get_latest_rolling_values(data):\n",
    "    for_number = data['xscore_for_rolling'].iloc[-1]\n",
    "    against_number = data['xscore_against_rolling'].iloc[-1]\n",
    "    return for_number, against_number\n",
    "\n",
    "def plot_team_rolling_ax(ax, data, team, fill = False, trend = False):\n",
    "    \n",
    "    color_for, color_against = get_team_colours(team)\n",
    "    \n",
    "    text_colour_for = \"black\" if color_for == \"white\" else \"white\"\n",
    "    text_colour_against = \"black\" if color_against == \"white\" else \"white\"\n",
    "\n",
    "    ax = set_colours_axes_ax(ax, '#121212', 'white', 'white', 'white')\n",
    "    ax = plot_lines_ax(ax, data, team, fill = fill, trend = trend, color_for = color_for, color_against = color_against)\n",
    "    for_number, against_number = get_latest_rolling_values(data)\n",
    "    \n",
    "    ax_text(\n",
    "        x=0,\n",
    "        y=140,\n",
    "        s=f'<{team}>\\n<xscore for: {for_number:.1f}>  <xscore against: {against_number:.1f}>  <avg. last 5 games>',\n",
    "        highlight_textprops=[\n",
    "            {'color': 'white', 'weight': 'bold', 'font': 'DM Sans'},\n",
    "            {\n",
    "                'size': '10',\n",
    "                'bbox': {\n",
    "                    'edgecolor': color_for,\n",
    "                    'facecolor': color_for,\n",
    "                    'pad': 1,\n",
    "                },\n",
    "                'color': text_colour_for,\n",
    "            },\n",
    "            {\n",
    "                'size': '10',\n",
    "                'bbox': {\n",
    "                    'edgecolor': color_against,\n",
    "                    'facecolor': color_against,\n",
    "                    'pad': 1,\n",
    "                },\n",
    "                'color': text_colour_against,\n",
    "            },\n",
    "            {\n",
    "                'size': '10',\n",
    "                'bbox': {'edgecolor': 'black', 'facecolor': 'grey', 'pad': 1},\n",
    "                'color': 'white',\n",
    "            },\n",
    "        ],\n",
    "        font=\"Karla\",\n",
    "        ha=\"left\",\n",
    "        size=14,\n",
    "    )\n",
    "\n",
    "    return ax"
   ]
  },
  {
   "cell_type": "code",
   "execution_count": null,
   "metadata": {},
   "outputs": [],
   "source": [
    "def plot_team_rolling_averages(shots):\n",
    "    \n",
    "    fig = plt.figure(figsize=(18, 24), dpi=300)\n",
    "    fig.set_facecolor('#121212')\n",
    "\n",
    "    nrows, ncols = 6, 3\n",
    "    gspec = gridspec.GridSpec(\n",
    "        ncols=ncols, nrows=nrows, figure=fig,\n",
    "        hspace=0.3\n",
    "    )\n",
    "\n",
    "    team_list = shots['Team'].unique()\n",
    "\n",
    "    for plot_counter, (row, col) in enumerate(itertools.product(range(nrows), range(ncols))):\n",
    "        team = team_list[plot_counter]\n",
    "        ax = plt.subplot(gspec[row, col])\n",
    "        rolling = create_rolling_team_expected_score_groupby(shots, team = team, rolling_window=10)\n",
    "        ax = plot_team_rolling_ax(ax, rolling, team = team, fill = True, trend = False)\n",
    "\n",
    "    fig_text(\n",
    "        x=0.13, y=0.92,\n",
    "        s = \"xscore 10-game rolling average.\",\n",
    "        size = 22,\n",
    "        font = \"Karla\",\n",
    "        color = 'white'\n",
    "    )\n",
    "    \n",
    "    return fig, ax"
   ]
  },
  {
   "cell_type": "code",
   "execution_count": null,
   "metadata": {},
   "outputs": [],
   "source": [
    "fig, ax = plot_team_rolling_averages(shots)"
   ]
  },
  {
   "cell_type": "markdown",
   "metadata": {},
   "source": [
    "Expected Score Storytelling"
   ]
  },
  {
   "cell_type": "code",
   "execution_count": null,
   "metadata": {},
   "outputs": [],
   "source": []
  },
  {
   "cell_type": "markdown",
   "metadata": {},
   "source": [
    "Diamond Scatter Plot / Scatter Plot"
   ]
  },
  {
   "cell_type": "code",
   "execution_count": null,
   "metadata": {},
   "outputs": [],
   "source": []
  }
 ],
 "metadata": {
  "kernelspec": {
   "display_name": "expected-score-env-311",
   "language": "python",
   "name": "python3"
  },
  "language_info": {
   "codemirror_mode": {
    "name": "ipython",
    "version": 3
   },
   "file_extension": ".py",
   "mimetype": "text/x-python",
   "name": "python",
   "nbconvert_exporter": "python",
   "pygments_lexer": "ipython3",
   "version": "3.11.5"
  }
 },
 "nbformat": 4,
 "nbformat_minor": 2
}
