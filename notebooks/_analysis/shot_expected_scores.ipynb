{
 "cells": [
  {
   "cell_type": "markdown",
   "metadata": {},
   "source": [
    "Expected Scores of each shot.\n",
    "\n",
    "- Each shot is it's own individual % based on it's own information.\n",
    "- Each shot is independent."
   ]
  },
  {
   "cell_type": "code",
   "execution_count": null,
   "metadata": {},
   "outputs": [],
   "source": [
    "import pandas as pd\n",
    "import warnings\n",
    "\n",
    "warnings.filterwarnings('ignore')\n",
    "pd.set_option('display.max_columns', 500)"
   ]
  },
  {
   "cell_type": "markdown",
   "metadata": {},
   "source": [
    "Data"
   ]
  },
  {
   "cell_type": "code",
   "execution_count": null,
   "metadata": {},
   "outputs": [],
   "source": [
    "shots = pd.read_csv(r\"/Users/ciaran/Documents/Projects/AFL/git-repositories/expected-score-model/data/predictions/shots_xs_catboost.csv\")"
   ]
  },
  {
   "cell_type": "code",
   "execution_count": null,
   "metadata": {},
   "outputs": [],
   "source": [
    "shots.head()"
   ]
  },
  {
   "cell_type": "markdown",
   "metadata": {},
   "source": [
    "Highest Shot Values"
   ]
  },
  {
   "cell_type": "code",
   "execution_count": null,
   "metadata": {},
   "outputs": [],
   "source": [
    "shots.sort_values(by = 'xscore', ascending=False).head(10)"
   ]
  },
  {
   "cell_type": "markdown",
   "metadata": {},
   "source": [
    "Visualise Shots"
   ]
  },
  {
   "cell_type": "code",
   "execution_count": null,
   "metadata": {},
   "outputs": [],
   "source": [
    "random_shot = shots.sample(1)"
   ]
  },
  {
   "cell_type": "code",
   "execution_count": null,
   "metadata": {},
   "outputs": [],
   "source": [
    "from mplfooty.pitch import Pitch, VerticalPitch"
   ]
  },
  {
   "cell_type": "code",
   "execution_count": null,
   "metadata": {},
   "outputs": [],
   "source": [
    "random_shot"
   ]
  },
  {
   "cell_type": "code",
   "execution_count": null,
   "metadata": {},
   "outputs": [],
   "source": [
    "pitch = Pitch(pitch_width=135, pitch_length=165,  \n",
    "                    line_width=0.5,\n",
    "                    half = True)\n",
    "fig, ax = pitch.draw()\n",
    "\n",
    "pitch.scatter(ax=ax, x=random_shot['x_0'], y=random_shot['y_0'], color = 'b')\n",
    "pitch.goal_angle(x=random_shot['x_0'], y=random_shot['y_0'], color = \"red\", alpha=0.3, ax=ax)\n",
    "\n",
    "# for action, prev in zip([1, 2, 3], [0, 1, 2]):\n",
    "#     pitch.scatter(ax=ax, x=random_shot[f'x_{action}'], y=random_shot[f'y_{action}'], color = 'blue')\n",
    "#     pitch.arrows(ax=ax, xstart=random_shot[f'x_{action}'], ystart=random_shot[f'x_{action}'], xend=random_shot[f'x_{prev}'], yend=random_shot[f'x_{prev}'])\n",
    "\n",
    "random_shot[['distance', 'angle', 'set_shot', 'distance_since_last_action']]"
   ]
  }
 ],
 "metadata": {
  "kernelspec": {
   "display_name": "expected-score-env-311",
   "language": "python",
   "name": "python3"
  },
  "language_info": {
   "codemirror_mode": {
    "name": "ipython",
    "version": 3
   },
   "file_extension": ".py",
   "mimetype": "text/x-python",
   "name": "python",
   "nbconvert_exporter": "python",
   "pygments_lexer": "ipython3",
   "version": "3.11.5"
  }
 },
 "nbformat": 4,
 "nbformat_minor": 2
}
