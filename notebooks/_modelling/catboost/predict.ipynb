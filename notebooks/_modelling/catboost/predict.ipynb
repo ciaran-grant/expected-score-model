{
 "cells": [
  {
   "cell_type": "code",
   "execution_count": null,
   "metadata": {},
   "outputs": [],
   "source": [
    "from AFLPy.AFLData_Client import load_data"
   ]
  },
  {
   "cell_type": "code",
   "execution_count": null,
   "metadata": {},
   "outputs": [],
   "source": [
    "chains = load_data(Dataset_Name=\"AFL_API_Match_Chains\", ID = \"AFL\")"
   ]
  },
  {
   "cell_type": "code",
   "execution_count": null,
   "metadata": {},
   "outputs": [],
   "source": [
    "import joblib\n",
    "import warnings\n",
    "warnings.filterwarnings('ignore')\n",
    "xscore_preproc = joblib.load(\"/Users/ciaran/Documents/Projects/AFL/git-repositories/expected-score-model/model_outputs/preprocessors/xscore_preprocessor.joblib\")\n",
    "xscore_model = joblib.load(\"/Users/ciaran/Documents/Projects/AFL/git-repositories/expected-score-model/model_outputs/models/catboost_xscore_model.joblib\")   "
   ]
  },
  {
   "cell_type": "code",
   "execution_count": null,
   "metadata": {},
   "outputs": [],
   "source": [
    "shots_features = xscore_preproc.transform(chains)"
   ]
  },
  {
   "cell_type": "code",
   "execution_count": null,
   "metadata": {},
   "outputs": [],
   "source": [
    "shots = chains.loc[shots_features.index]"
   ]
  },
  {
   "cell_type": "code",
   "execution_count": null,
   "metadata": {},
   "outputs": [],
   "source": [
    "model_features = xscore_model.cb_clf.feature_names_\n",
    "model_features"
   ]
  },
  {
   "cell_type": "code",
   "execution_count": null,
   "metadata": {},
   "outputs": [],
   "source": [
    "shots['predicted_result'] = xscore_model.predict(shots_features[model_features]).flatten()"
   ]
  },
  {
   "cell_type": "code",
   "execution_count": null,
   "metadata": {},
   "outputs": [],
   "source": [
    "shots[[f'{x}_probas' for x in xscore_model.classes_]] = xscore_model.predict_proba(shots_features[model_features])\n",
    "shots['xscore'] = shots['goal_probas']*6 + shots['behind_probas']"
   ]
  },
  {
   "cell_type": "code",
   "execution_count": null,
   "metadata": {},
   "outputs": [],
   "source": [
    "shots.shape"
   ]
  },
  {
   "cell_type": "code",
   "execution_count": null,
   "metadata": {},
   "outputs": [],
   "source": [
    "import pandas as pd\n",
    "shots = shots.merge(shots_features, left_index=True, right_index=True)\n",
    "shots.shape"
   ]
  },
  {
   "cell_type": "code",
   "execution_count": null,
   "metadata": {},
   "outputs": [],
   "source": [
    "import joblib\n",
    "import pandas as pd\n",
    "import warnings\n",
    "warnings.filterwarnings('ignore')\n",
    "\n",
    "def predict_xscore_from_chains(chains):\n",
    "    \n",
    "    chains = chains.reset_index(drop=True)\n",
    "\n",
    "    xscore_preproc = joblib.load(\"/Users/ciaran/Documents/Projects/AFL/git-repositories/expected-score-model/model_outputs/preprocessors/xscore_preprocessor.joblib\")\n",
    "    shots_features = xscore_preproc.transform(chains)\n",
    "\n",
    "    xscore_model = joblib.load(\"/Users/ciaran/Documents/Projects/AFL/git-repositories/expected-score-model/model_outputs/models/catboost_xscore_model.joblib\")   \n",
    "    model_features = xscore_model.cb_clf.feature_names_\n",
    "    \n",
    "    shots = chains.loc[shots_features.index]\n",
    "    shots['predicted_result'] = xscore_model.predict(shots_features[model_features]).flatten()\n",
    "    shots[[f'{x}_probas' for x in xscore_model.classes_]] = xscore_model.predict_proba(shots_features[model_features])\n",
    "    shots['xscore'] = shots['goal_probas']*6 + shots['behind_probas']\n",
    "    shots = shots.merge(shots_features, left_index=True, right_index=True)\n",
    "\n",
    "    return shots"
   ]
  },
  {
   "cell_type": "code",
   "execution_count": null,
   "metadata": {},
   "outputs": [],
   "source": [
    "shots = predict_xscore_from_chains(chains)"
   ]
  },
  {
   "cell_type": "code",
   "execution_count": null,
   "metadata": {},
   "outputs": [],
   "source": [
    "match_id = 'AFL_2022_F4_Geelong_Sydney'\n",
    "predict_xscore_from_chains(chains[chains['Match_ID'] == match_id])"
   ]
  },
  {
   "cell_type": "code",
   "execution_count": null,
   "metadata": {},
   "outputs": [],
   "source": []
  }
 ],
 "metadata": {
  "kernelspec": {
   "display_name": "expected-score-env",
   "language": "python",
   "name": "python3"
  },
  "language_info": {
   "codemirror_mode": {
    "name": "ipython",
    "version": 3
   },
   "file_extension": ".py",
   "mimetype": "text/x-python",
   "name": "python",
   "nbconvert_exporter": "python",
   "pygments_lexer": "ipython3",
   "version": "3.11.0"
  }
 },
 "nbformat": 4,
 "nbformat_minor": 2
}
