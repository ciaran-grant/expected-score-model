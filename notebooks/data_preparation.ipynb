{
 "cells": [
  {
   "attachments": {},
   "cell_type": "markdown",
   "metadata": {},
   "source": [
    "# Expected Score Model - Data Preparation"
   ]
  },
  {
   "cell_type": "code",
   "execution_count": 1,
   "metadata": {},
   "outputs": [],
   "source": [
    "import pandas as pd\n",
    "import numpy as np\n",
    "import joblib\n",
    "import math\n",
    "from sklearn.model_selection import train_test_split\n",
    "\n",
    "import sys\n",
    "sys.path.append(\"..\")\n",
    "from expected_score_model.config import chain_file_path\n",
    "from expected_score_model.domain.preprocessing.data_preprocessor import DataPreprocessor\n",
    "from expected_score_model.domain.preprocessing.preprocessing import expected_score_response_processing, final_state_map, get_stratified_train_test_val_columns\n",
    "\n",
    "pd.options.display.max_rows = 999\n",
    "pd.options.display.max_columns = 999"
   ]
  },
  {
   "attachments": {},
   "cell_type": "markdown",
   "metadata": {},
   "source": [
    "Import data"
   ]
  },
  {
   "cell_type": "code",
   "execution_count": 2,
   "metadata": {},
   "outputs": [
    {
     "data": {
      "text/html": [
       "<div>\n",
       "<style scoped>\n",
       "    .dataframe tbody tr th:only-of-type {\n",
       "        vertical-align: middle;\n",
       "    }\n",
       "\n",
       "    .dataframe tbody tr th {\n",
       "        vertical-align: top;\n",
       "    }\n",
       "\n",
       "    .dataframe thead th {\n",
       "        text-align: right;\n",
       "    }\n",
       "</style>\n",
       "<table border=\"1\" class=\"dataframe\">\n",
       "  <thead>\n",
       "    <tr style=\"text-align: right;\">\n",
       "      <th></th>\n",
       "      <th>Chain_Number</th>\n",
       "      <th>Initial_State</th>\n",
       "      <th>Final_State</th>\n",
       "      <th>Order</th>\n",
       "      <th>Quarter</th>\n",
       "      <th>Quarter_Duration_Chain_Start</th>\n",
       "      <th>Quarter_Duration</th>\n",
       "      <th>Team_Chain</th>\n",
       "      <th>Team</th>\n",
       "      <th>Player</th>\n",
       "      <th>AFL_API_Player_ID</th>\n",
       "      <th>Description</th>\n",
       "      <th>x</th>\n",
       "      <th>y</th>\n",
       "      <th>Disposal</th>\n",
       "      <th>Shot_At_Goal</th>\n",
       "      <th>Behind_Detail</th>\n",
       "      <th>Venue_Width</th>\n",
       "      <th>Venue_Length</th>\n",
       "      <th>Home_Team</th>\n",
       "      <th>Away_Team</th>\n",
       "      <th>Home_Team_Direction_Q1</th>\n",
       "      <th>Match_ID</th>\n",
       "      <th>Round_ID</th>\n",
       "      <th>Year</th>\n",
       "      <th>Season</th>\n",
       "    </tr>\n",
       "  </thead>\n",
       "  <tbody>\n",
       "    <tr>\n",
       "      <th>0</th>\n",
       "      <td>1</td>\n",
       "      <td>centreBounce</td>\n",
       "      <td>goal</td>\n",
       "      <td>1.0</td>\n",
       "      <td>1</td>\n",
       "      <td>13</td>\n",
       "      <td>13.0</td>\n",
       "      <td>Brisbane Lions</td>\n",
       "      <td>NaN</td>\n",
       "      <td>NaN</td>\n",
       "      <td>NaN</td>\n",
       "      <td>Centre Bounce</td>\n",
       "      <td>0.0</td>\n",
       "      <td>0.0</td>\n",
       "      <td>NaN</td>\n",
       "      <td>NaN</td>\n",
       "      <td>NaN</td>\n",
       "      <td>138</td>\n",
       "      <td>156</td>\n",
       "      <td>Brisbane Lions</td>\n",
       "      <td>Sydney</td>\n",
       "      <td>right</td>\n",
       "      <td>202101_BrisbaneLions_Sydney</td>\n",
       "      <td>202101</td>\n",
       "      <td>2021.0</td>\n",
       "      <td>NaN</td>\n",
       "    </tr>\n",
       "    <tr>\n",
       "      <th>1</th>\n",
       "      <td>1</td>\n",
       "      <td>centreBounce</td>\n",
       "      <td>goal</td>\n",
       "      <td>2.0</td>\n",
       "      <td>1</td>\n",
       "      <td>13</td>\n",
       "      <td>24.0</td>\n",
       "      <td>Brisbane Lions</td>\n",
       "      <td>Brisbane Lions</td>\n",
       "      <td>Dayne Zorko</td>\n",
       "      <td>Dayne_Zorko</td>\n",
       "      <td>Hard Ball Get</td>\n",
       "      <td>8.0</td>\n",
       "      <td>-5.0</td>\n",
       "      <td>NaN</td>\n",
       "      <td>NaN</td>\n",
       "      <td>NaN</td>\n",
       "      <td>138</td>\n",
       "      <td>156</td>\n",
       "      <td>Brisbane Lions</td>\n",
       "      <td>Sydney</td>\n",
       "      <td>right</td>\n",
       "      <td>202101_BrisbaneLions_Sydney</td>\n",
       "      <td>202101</td>\n",
       "      <td>2021.0</td>\n",
       "      <td>NaN</td>\n",
       "    </tr>\n",
       "    <tr>\n",
       "      <th>2</th>\n",
       "      <td>1</td>\n",
       "      <td>centreBounce</td>\n",
       "      <td>goal</td>\n",
       "      <td>3.0</td>\n",
       "      <td>1</td>\n",
       "      <td>13</td>\n",
       "      <td>24.0</td>\n",
       "      <td>Brisbane Lions</td>\n",
       "      <td>Brisbane Lions</td>\n",
       "      <td>Dayne Zorko</td>\n",
       "      <td>Dayne_Zorko</td>\n",
       "      <td>Handball</td>\n",
       "      <td>9.0</td>\n",
       "      <td>-6.0</td>\n",
       "      <td>ineffective</td>\n",
       "      <td>NaN</td>\n",
       "      <td>NaN</td>\n",
       "      <td>138</td>\n",
       "      <td>156</td>\n",
       "      <td>Brisbane Lions</td>\n",
       "      <td>Sydney</td>\n",
       "      <td>right</td>\n",
       "      <td>202101_BrisbaneLions_Sydney</td>\n",
       "      <td>202101</td>\n",
       "      <td>2021.0</td>\n",
       "      <td>NaN</td>\n",
       "    </tr>\n",
       "    <tr>\n",
       "      <th>3</th>\n",
       "      <td>1</td>\n",
       "      <td>centreBounce</td>\n",
       "      <td>goal</td>\n",
       "      <td>4.0</td>\n",
       "      <td>1</td>\n",
       "      <td>13</td>\n",
       "      <td>28.0</td>\n",
       "      <td>Brisbane Lions</td>\n",
       "      <td>Sydney</td>\n",
       "      <td>Oliver Florent</td>\n",
       "      <td>Oliver_Florent</td>\n",
       "      <td>Loose Ball Get</td>\n",
       "      <td>11.0</td>\n",
       "      <td>-7.0</td>\n",
       "      <td>NaN</td>\n",
       "      <td>NaN</td>\n",
       "      <td>NaN</td>\n",
       "      <td>138</td>\n",
       "      <td>156</td>\n",
       "      <td>Brisbane Lions</td>\n",
       "      <td>Sydney</td>\n",
       "      <td>right</td>\n",
       "      <td>202101_BrisbaneLions_Sydney</td>\n",
       "      <td>202101</td>\n",
       "      <td>2021.0</td>\n",
       "      <td>NaN</td>\n",
       "    </tr>\n",
       "    <tr>\n",
       "      <th>4</th>\n",
       "      <td>1</td>\n",
       "      <td>centreBounce</td>\n",
       "      <td>goal</td>\n",
       "      <td>5.0</td>\n",
       "      <td>1</td>\n",
       "      <td>13</td>\n",
       "      <td>29.0</td>\n",
       "      <td>Brisbane Lions</td>\n",
       "      <td>Sydney</td>\n",
       "      <td>Oliver Florent</td>\n",
       "      <td>Oliver_Florent</td>\n",
       "      <td>Handball</td>\n",
       "      <td>12.0</td>\n",
       "      <td>-5.0</td>\n",
       "      <td>effective</td>\n",
       "      <td>NaN</td>\n",
       "      <td>NaN</td>\n",
       "      <td>138</td>\n",
       "      <td>156</td>\n",
       "      <td>Brisbane Lions</td>\n",
       "      <td>Sydney</td>\n",
       "      <td>right</td>\n",
       "      <td>202101_BrisbaneLions_Sydney</td>\n",
       "      <td>202101</td>\n",
       "      <td>2021.0</td>\n",
       "      <td>NaN</td>\n",
       "    </tr>\n",
       "  </tbody>\n",
       "</table>\n",
       "</div>"
      ],
      "text/plain": [
       "   Chain_Number Initial_State Final_State  Order  Quarter  \\\n",
       "0             1  centreBounce        goal    1.0        1   \n",
       "1             1  centreBounce        goal    2.0        1   \n",
       "2             1  centreBounce        goal    3.0        1   \n",
       "3             1  centreBounce        goal    4.0        1   \n",
       "4             1  centreBounce        goal    5.0        1   \n",
       "\n",
       "   Quarter_Duration_Chain_Start  Quarter_Duration      Team_Chain  \\\n",
       "0                            13              13.0  Brisbane Lions   \n",
       "1                            13              24.0  Brisbane Lions   \n",
       "2                            13              24.0  Brisbane Lions   \n",
       "3                            13              28.0  Brisbane Lions   \n",
       "4                            13              29.0  Brisbane Lions   \n",
       "\n",
       "             Team          Player AFL_API_Player_ID     Description     x  \\\n",
       "0             NaN             NaN               NaN   Centre Bounce   0.0   \n",
       "1  Brisbane Lions     Dayne Zorko       Dayne_Zorko   Hard Ball Get   8.0   \n",
       "2  Brisbane Lions     Dayne Zorko       Dayne_Zorko        Handball   9.0   \n",
       "3          Sydney  Oliver Florent    Oliver_Florent  Loose Ball Get  11.0   \n",
       "4          Sydney  Oliver Florent    Oliver_Florent        Handball  12.0   \n",
       "\n",
       "     y     Disposal Shot_At_Goal Behind_Detail  Venue_Width  Venue_Length  \\\n",
       "0  0.0          NaN          NaN           NaN          138           156   \n",
       "1 -5.0          NaN          NaN           NaN          138           156   \n",
       "2 -6.0  ineffective          NaN           NaN          138           156   \n",
       "3 -7.0          NaN          NaN           NaN          138           156   \n",
       "4 -5.0    effective          NaN           NaN          138           156   \n",
       "\n",
       "        Home_Team Away_Team Home_Team_Direction_Q1  \\\n",
       "0  Brisbane Lions    Sydney                  right   \n",
       "1  Brisbane Lions    Sydney                  right   \n",
       "2  Brisbane Lions    Sydney                  right   \n",
       "3  Brisbane Lions    Sydney                  right   \n",
       "4  Brisbane Lions    Sydney                  right   \n",
       "\n",
       "                      Match_ID Round_ID    Year  Season  \n",
       "0  202101_BrisbaneLions_Sydney   202101  2021.0     NaN  \n",
       "1  202101_BrisbaneLions_Sydney   202101  2021.0     NaN  \n",
       "2  202101_BrisbaneLions_Sydney   202101  2021.0     NaN  \n",
       "3  202101_BrisbaneLions_Sydney   202101  2021.0     NaN  \n",
       "4  202101_BrisbaneLions_Sydney   202101  2021.0     NaN  "
      ]
     },
     "execution_count": 2,
     "metadata": {},
     "output_type": "execute_result"
    }
   ],
   "source": [
    "chain_data = pd.read_csv(chain_file_path, low_memory=False)\n",
    "chain_data.head()"
   ]
  },
  {
   "attachments": {},
   "cell_type": "markdown",
   "metadata": {},
   "source": [
    "Mapping Response"
   ]
  },
  {
   "cell_type": "code",
   "execution_count": 3,
   "metadata": {},
   "outputs": [
    {
     "data": {
      "text/html": [
       "<div>\n",
       "<style scoped>\n",
       "    .dataframe tbody tr th:only-of-type {\n",
       "        vertical-align: middle;\n",
       "    }\n",
       "\n",
       "    .dataframe tbody tr th {\n",
       "        vertical-align: top;\n",
       "    }\n",
       "\n",
       "    .dataframe thead th {\n",
       "        text-align: right;\n",
       "    }\n",
       "</style>\n",
       "<table border=\"1\" class=\"dataframe\">\n",
       "  <thead>\n",
       "    <tr style=\"text-align: right;\">\n",
       "      <th></th>\n",
       "      <th>Chain_Number</th>\n",
       "      <th>Initial_State</th>\n",
       "      <th>Final_State</th>\n",
       "      <th>Order</th>\n",
       "      <th>Quarter</th>\n",
       "      <th>Quarter_Duration_Chain_Start</th>\n",
       "      <th>Quarter_Duration</th>\n",
       "      <th>Team_Chain</th>\n",
       "      <th>Team</th>\n",
       "      <th>Player</th>\n",
       "      <th>AFL_API_Player_ID</th>\n",
       "      <th>Description</th>\n",
       "      <th>x</th>\n",
       "      <th>y</th>\n",
       "      <th>Disposal</th>\n",
       "      <th>Shot_At_Goal</th>\n",
       "      <th>Behind_Detail</th>\n",
       "      <th>Venue_Width</th>\n",
       "      <th>Venue_Length</th>\n",
       "      <th>Home_Team</th>\n",
       "      <th>Away_Team</th>\n",
       "      <th>Home_Team_Direction_Q1</th>\n",
       "      <th>Match_ID</th>\n",
       "      <th>Round_ID</th>\n",
       "      <th>Year</th>\n",
       "      <th>Season</th>\n",
       "      <th>Goal</th>\n",
       "      <th>Behind</th>\n",
       "      <th>Miss</th>\n",
       "      <th>Score</th>\n",
       "    </tr>\n",
       "  </thead>\n",
       "  <tbody>\n",
       "    <tr>\n",
       "      <th>0</th>\n",
       "      <td>1</td>\n",
       "      <td>centreBounce</td>\n",
       "      <td>goal</td>\n",
       "      <td>1.0</td>\n",
       "      <td>1</td>\n",
       "      <td>13</td>\n",
       "      <td>13.0</td>\n",
       "      <td>Brisbane Lions</td>\n",
       "      <td>NaN</td>\n",
       "      <td>NaN</td>\n",
       "      <td>NaN</td>\n",
       "      <td>Centre Bounce</td>\n",
       "      <td>0.0</td>\n",
       "      <td>0.0</td>\n",
       "      <td>NaN</td>\n",
       "      <td>NaN</td>\n",
       "      <td>NaN</td>\n",
       "      <td>138</td>\n",
       "      <td>156</td>\n",
       "      <td>Brisbane Lions</td>\n",
       "      <td>Sydney</td>\n",
       "      <td>right</td>\n",
       "      <td>202101_BrisbaneLions_Sydney</td>\n",
       "      <td>202101</td>\n",
       "      <td>2021.0</td>\n",
       "      <td>NaN</td>\n",
       "      <td>0</td>\n",
       "      <td>0</td>\n",
       "      <td>0</td>\n",
       "      <td>0</td>\n",
       "    </tr>\n",
       "    <tr>\n",
       "      <th>1</th>\n",
       "      <td>1</td>\n",
       "      <td>centreBounce</td>\n",
       "      <td>goal</td>\n",
       "      <td>2.0</td>\n",
       "      <td>1</td>\n",
       "      <td>13</td>\n",
       "      <td>24.0</td>\n",
       "      <td>Brisbane Lions</td>\n",
       "      <td>Brisbane Lions</td>\n",
       "      <td>Dayne Zorko</td>\n",
       "      <td>Dayne_Zorko</td>\n",
       "      <td>Hard Ball Get</td>\n",
       "      <td>8.0</td>\n",
       "      <td>-5.0</td>\n",
       "      <td>NaN</td>\n",
       "      <td>NaN</td>\n",
       "      <td>NaN</td>\n",
       "      <td>138</td>\n",
       "      <td>156</td>\n",
       "      <td>Brisbane Lions</td>\n",
       "      <td>Sydney</td>\n",
       "      <td>right</td>\n",
       "      <td>202101_BrisbaneLions_Sydney</td>\n",
       "      <td>202101</td>\n",
       "      <td>2021.0</td>\n",
       "      <td>NaN</td>\n",
       "      <td>0</td>\n",
       "      <td>0</td>\n",
       "      <td>0</td>\n",
       "      <td>0</td>\n",
       "    </tr>\n",
       "    <tr>\n",
       "      <th>2</th>\n",
       "      <td>1</td>\n",
       "      <td>centreBounce</td>\n",
       "      <td>goal</td>\n",
       "      <td>3.0</td>\n",
       "      <td>1</td>\n",
       "      <td>13</td>\n",
       "      <td>24.0</td>\n",
       "      <td>Brisbane Lions</td>\n",
       "      <td>Brisbane Lions</td>\n",
       "      <td>Dayne Zorko</td>\n",
       "      <td>Dayne_Zorko</td>\n",
       "      <td>Handball</td>\n",
       "      <td>9.0</td>\n",
       "      <td>-6.0</td>\n",
       "      <td>ineffective</td>\n",
       "      <td>NaN</td>\n",
       "      <td>NaN</td>\n",
       "      <td>138</td>\n",
       "      <td>156</td>\n",
       "      <td>Brisbane Lions</td>\n",
       "      <td>Sydney</td>\n",
       "      <td>right</td>\n",
       "      <td>202101_BrisbaneLions_Sydney</td>\n",
       "      <td>202101</td>\n",
       "      <td>2021.0</td>\n",
       "      <td>NaN</td>\n",
       "      <td>0</td>\n",
       "      <td>0</td>\n",
       "      <td>0</td>\n",
       "      <td>0</td>\n",
       "    </tr>\n",
       "    <tr>\n",
       "      <th>3</th>\n",
       "      <td>1</td>\n",
       "      <td>centreBounce</td>\n",
       "      <td>goal</td>\n",
       "      <td>4.0</td>\n",
       "      <td>1</td>\n",
       "      <td>13</td>\n",
       "      <td>28.0</td>\n",
       "      <td>Brisbane Lions</td>\n",
       "      <td>Sydney</td>\n",
       "      <td>Oliver Florent</td>\n",
       "      <td>Oliver_Florent</td>\n",
       "      <td>Loose Ball Get</td>\n",
       "      <td>11.0</td>\n",
       "      <td>-7.0</td>\n",
       "      <td>NaN</td>\n",
       "      <td>NaN</td>\n",
       "      <td>NaN</td>\n",
       "      <td>138</td>\n",
       "      <td>156</td>\n",
       "      <td>Brisbane Lions</td>\n",
       "      <td>Sydney</td>\n",
       "      <td>right</td>\n",
       "      <td>202101_BrisbaneLions_Sydney</td>\n",
       "      <td>202101</td>\n",
       "      <td>2021.0</td>\n",
       "      <td>NaN</td>\n",
       "      <td>0</td>\n",
       "      <td>0</td>\n",
       "      <td>0</td>\n",
       "      <td>0</td>\n",
       "    </tr>\n",
       "    <tr>\n",
       "      <th>4</th>\n",
       "      <td>1</td>\n",
       "      <td>centreBounce</td>\n",
       "      <td>goal</td>\n",
       "      <td>5.0</td>\n",
       "      <td>1</td>\n",
       "      <td>13</td>\n",
       "      <td>29.0</td>\n",
       "      <td>Brisbane Lions</td>\n",
       "      <td>Sydney</td>\n",
       "      <td>Oliver Florent</td>\n",
       "      <td>Oliver_Florent</td>\n",
       "      <td>Handball</td>\n",
       "      <td>12.0</td>\n",
       "      <td>-5.0</td>\n",
       "      <td>effective</td>\n",
       "      <td>NaN</td>\n",
       "      <td>NaN</td>\n",
       "      <td>138</td>\n",
       "      <td>156</td>\n",
       "      <td>Brisbane Lions</td>\n",
       "      <td>Sydney</td>\n",
       "      <td>right</td>\n",
       "      <td>202101_BrisbaneLions_Sydney</td>\n",
       "      <td>202101</td>\n",
       "      <td>2021.0</td>\n",
       "      <td>NaN</td>\n",
       "      <td>0</td>\n",
       "      <td>0</td>\n",
       "      <td>0</td>\n",
       "      <td>0</td>\n",
       "    </tr>\n",
       "  </tbody>\n",
       "</table>\n",
       "</div>"
      ],
      "text/plain": [
       "   Chain_Number Initial_State Final_State  Order  Quarter  \\\n",
       "0             1  centreBounce        goal    1.0        1   \n",
       "1             1  centreBounce        goal    2.0        1   \n",
       "2             1  centreBounce        goal    3.0        1   \n",
       "3             1  centreBounce        goal    4.0        1   \n",
       "4             1  centreBounce        goal    5.0        1   \n",
       "\n",
       "   Quarter_Duration_Chain_Start  Quarter_Duration      Team_Chain  \\\n",
       "0                            13              13.0  Brisbane Lions   \n",
       "1                            13              24.0  Brisbane Lions   \n",
       "2                            13              24.0  Brisbane Lions   \n",
       "3                            13              28.0  Brisbane Lions   \n",
       "4                            13              29.0  Brisbane Lions   \n",
       "\n",
       "             Team          Player AFL_API_Player_ID     Description     x  \\\n",
       "0             NaN             NaN               NaN   Centre Bounce   0.0   \n",
       "1  Brisbane Lions     Dayne Zorko       Dayne_Zorko   Hard Ball Get   8.0   \n",
       "2  Brisbane Lions     Dayne Zorko       Dayne_Zorko        Handball   9.0   \n",
       "3          Sydney  Oliver Florent    Oliver_Florent  Loose Ball Get  11.0   \n",
       "4          Sydney  Oliver Florent    Oliver_Florent        Handball  12.0   \n",
       "\n",
       "     y     Disposal Shot_At_Goal Behind_Detail  Venue_Width  Venue_Length  \\\n",
       "0  0.0          NaN          NaN           NaN          138           156   \n",
       "1 -5.0          NaN          NaN           NaN          138           156   \n",
       "2 -6.0  ineffective          NaN           NaN          138           156   \n",
       "3 -7.0          NaN          NaN           NaN          138           156   \n",
       "4 -5.0    effective          NaN           NaN          138           156   \n",
       "\n",
       "        Home_Team Away_Team Home_Team_Direction_Q1  \\\n",
       "0  Brisbane Lions    Sydney                  right   \n",
       "1  Brisbane Lions    Sydney                  right   \n",
       "2  Brisbane Lions    Sydney                  right   \n",
       "3  Brisbane Lions    Sydney                  right   \n",
       "4  Brisbane Lions    Sydney                  right   \n",
       "\n",
       "                      Match_ID Round_ID    Year  Season  Goal  Behind  Miss  \\\n",
       "0  202101_BrisbaneLions_Sydney   202101  2021.0     NaN     0       0     0   \n",
       "1  202101_BrisbaneLions_Sydney   202101  2021.0     NaN     0       0     0   \n",
       "2  202101_BrisbaneLions_Sydney   202101  2021.0     NaN     0       0     0   \n",
       "3  202101_BrisbaneLions_Sydney   202101  2021.0     NaN     0       0     0   \n",
       "4  202101_BrisbaneLions_Sydney   202101  2021.0     NaN     0       0     0   \n",
       "\n",
       "   Score  \n",
       "0      0  \n",
       "1      0  \n",
       "2      0  \n",
       "3      0  \n",
       "4      0  "
      ]
     },
     "execution_count": 3,
     "metadata": {},
     "output_type": "execute_result"
    }
   ],
   "source": [
    "chain_data = expected_score_response_processing(chain_data)\n",
    "chain_data.head()"
   ]
  },
  {
   "attachments": {},
   "cell_type": "markdown",
   "metadata": {},
   "source": [
    "Shots"
   ]
  },
  {
   "cell_type": "code",
   "execution_count": 4,
   "metadata": {},
   "outputs": [
    {
     "name": "stderr",
     "output_type": "stream",
     "text": [
      "/var/folders/fm/_t15h8ls56q08qggzncfm73w0000gn/T/ipykernel_10377/850999140.py:3: SettingWithCopyWarning: \n",
      "A value is trying to be set on a copy of a slice from a DataFrame.\n",
      "Try using .loc[row_indexer,col_indexer] = value instead\n",
      "\n",
      "See the caveats in the documentation: https://pandas.pydata.org/pandas-docs/stable/user_guide/indexing.html#returning-a-view-versus-a-copy\n",
      "  df_shots['Set_Shot'] = df_shots['Event_Type1'].apply(lambda x: (\"Mark\" in x) or (\"Free\" in x))\n"
     ]
    }
   ],
   "source": [
    "chain_data['Event_Type1'] = chain_data['Description'].shift(1)\n",
    "df_shots = chain_data[chain_data['Shot_At_Goal'] == True]\n",
    "df_shots['Set_Shot'] = df_shots['Event_Type1'].apply(lambda x: (\"Mark\" in x) or (\"Free\" in x))\n",
    "df_set_shots = df_shots[df_shots['Set_Shot']]\n",
    "df_open_shots = df_shots[~df_shots['Set_Shot']]"
   ]
  },
  {
   "cell_type": "code",
   "execution_count": 5,
   "metadata": {},
   "outputs": [
    {
     "data": {
      "text/plain": [
       "(16310, 32)"
      ]
     },
     "execution_count": 5,
     "metadata": {},
     "output_type": "execute_result"
    }
   ],
   "source": [
    "df_set_shots.shape"
   ]
  },
  {
   "attachments": {},
   "cell_type": "markdown",
   "metadata": {},
   "source": [
    "Set Goal"
   ]
  },
  {
   "cell_type": "code",
   "execution_count": 6,
   "metadata": {},
   "outputs": [
    {
     "name": "stderr",
     "output_type": "stream",
     "text": [
      "/Users/ciaran/opt/anaconda3/envs/expected-score-env/lib/python3.9/site-packages/pandas/core/arraylike.py:402: RuntimeWarning: divide by zero encountered in log\n",
      "  result = getattr(ufunc, method)(*inputs, **kwargs)\n",
      "/Users/ciaran/Documents/Projects/AFL/git-repositories/expected-score-model/notebooks/../expected_score_model/domain/preprocessing/data_preprocessor.py:70: SettingWithCopyWarning: \n",
      "A value is trying to be set on a copy of a slice from a DataFrame.\n",
      "Try using .loc[row_indexer,col_indexer] = value instead\n",
      "\n",
      "See the caveats in the documentation: https://pandas.pydata.org/pandas-docs/stable/user_guide/indexing.html#returning-a-view-versus-a-copy\n",
      "  X_shots['Set_Shot'] = X_shots['Event_Type1'].apply(lambda x: (\"Mark\" in x) or (\"Free\" in x))\n"
     ]
    },
    {
     "data": {
      "text/plain": [
       "['../model_outputs/preprocessors/set_goal_preproc.joblib']"
      ]
     },
     "execution_count": 6,
     "metadata": {},
     "output_type": "execute_result"
    }
   ],
   "source": [
    "set_goal_preproc = DataPreprocessor(set_shot=True, model_response = \"Goal\")\n",
    "set_goal_preproc.fit()\n",
    "set_goal_features = set_goal_preproc.transform(chain_data)\n",
    "set_goal_modelling_data = pd.concat([df_set_shots, set_goal_features], axis=1)\n",
    "\n",
    "set_goal_modelling_data = get_stratified_train_test_val_columns(set_goal_modelling_data, response = \"Goal\")\n",
    "set_goal_modelling_data.to_csv(\"../data/set_goal_modelling_data.csv\", index=False)\n",
    "joblib.dump(set_goal_preproc, \"../model_outputs/preprocessors/set_goal_preproc.joblib\")"
   ]
  },
  {
   "attachments": {},
   "cell_type": "markdown",
   "metadata": {},
   "source": [
    "Set Behind"
   ]
  },
  {
   "cell_type": "code",
   "execution_count": 7,
   "metadata": {},
   "outputs": [
    {
     "name": "stderr",
     "output_type": "stream",
     "text": [
      "/Users/ciaran/opt/anaconda3/envs/expected-score-env/lib/python3.9/site-packages/pandas/core/arraylike.py:402: RuntimeWarning: divide by zero encountered in log\n",
      "  result = getattr(ufunc, method)(*inputs, **kwargs)\n",
      "/Users/ciaran/Documents/Projects/AFL/git-repositories/expected-score-model/notebooks/../expected_score_model/domain/preprocessing/data_preprocessor.py:70: SettingWithCopyWarning: \n",
      "A value is trying to be set on a copy of a slice from a DataFrame.\n",
      "Try using .loc[row_indexer,col_indexer] = value instead\n",
      "\n",
      "See the caveats in the documentation: https://pandas.pydata.org/pandas-docs/stable/user_guide/indexing.html#returning-a-view-versus-a-copy\n",
      "  X_shots['Set_Shot'] = X_shots['Event_Type1'].apply(lambda x: (\"Mark\" in x) or (\"Free\" in x))\n"
     ]
    },
    {
     "data": {
      "text/plain": [
       "['../model_outputs/preprocessors/set_behind_preproc.joblib']"
      ]
     },
     "execution_count": 7,
     "metadata": {},
     "output_type": "execute_result"
    }
   ],
   "source": [
    "set_behind_preproc = DataPreprocessor(set_shot=True, model_response = \"Behind\")\n",
    "set_behind_preproc.fit()\n",
    "set_behind_features = set_behind_preproc.transform(chain_data)\n",
    "set_behind_modelling_data = pd.concat([df_set_shots, set_behind_features], axis=1)\n",
    "\n",
    "set_behind_modelling_data = get_stratified_train_test_val_columns(set_behind_modelling_data, response = \"Behind\")\n",
    "set_behind_modelling_data.to_csv(\"../data/set_behind_modelling_data.csv\", index=False)\n",
    "joblib.dump(set_behind_preproc, \"../model_outputs/preprocessors/set_behind_preproc.joblib\")"
   ]
  },
  {
   "attachments": {},
   "cell_type": "markdown",
   "metadata": {},
   "source": [
    "Set Miss"
   ]
  },
  {
   "cell_type": "code",
   "execution_count": 8,
   "metadata": {},
   "outputs": [
    {
     "name": "stderr",
     "output_type": "stream",
     "text": [
      "/Users/ciaran/opt/anaconda3/envs/expected-score-env/lib/python3.9/site-packages/pandas/core/arraylike.py:402: RuntimeWarning: divide by zero encountered in log\n",
      "  result = getattr(ufunc, method)(*inputs, **kwargs)\n",
      "/Users/ciaran/Documents/Projects/AFL/git-repositories/expected-score-model/notebooks/../expected_score_model/domain/preprocessing/data_preprocessor.py:70: SettingWithCopyWarning: \n",
      "A value is trying to be set on a copy of a slice from a DataFrame.\n",
      "Try using .loc[row_indexer,col_indexer] = value instead\n",
      "\n",
      "See the caveats in the documentation: https://pandas.pydata.org/pandas-docs/stable/user_guide/indexing.html#returning-a-view-versus-a-copy\n",
      "  X_shots['Set_Shot'] = X_shots['Event_Type1'].apply(lambda x: (\"Mark\" in x) or (\"Free\" in x))\n"
     ]
    },
    {
     "data": {
      "text/plain": [
       "['../model_outputs/preprocessors/set_miss_preproc.joblib']"
      ]
     },
     "execution_count": 8,
     "metadata": {},
     "output_type": "execute_result"
    }
   ],
   "source": [
    "set_miss_preproc = DataPreprocessor(set_shot=True, model_response = \"Miss\")\n",
    "set_miss_preproc.fit()\n",
    "set_miss_features = set_miss_preproc.transform(chain_data)\n",
    "set_miss_modelling_data = pd.concat([df_set_shots, set_miss_features], axis=1)\n",
    "\n",
    "set_miss_modelling_data = get_stratified_train_test_val_columns(set_miss_modelling_data, response = \"Miss\")\n",
    "set_miss_modelling_data.to_csv(\"../data/set_miss_modelling_data.csv\", index=False)\n",
    "joblib.dump(set_miss_preproc, \"../model_outputs/preprocessors/set_miss_preproc.joblib\")"
   ]
  },
  {
   "attachments": {},
   "cell_type": "markdown",
   "metadata": {},
   "source": [
    "Open Goal"
   ]
  },
  {
   "cell_type": "code",
   "execution_count": 9,
   "metadata": {},
   "outputs": [
    {
     "name": "stderr",
     "output_type": "stream",
     "text": [
      "/Users/ciaran/opt/anaconda3/envs/expected-score-env/lib/python3.9/site-packages/pandas/core/arraylike.py:402: RuntimeWarning: divide by zero encountered in log\n",
      "  result = getattr(ufunc, method)(*inputs, **kwargs)\n",
      "/Users/ciaran/Documents/Projects/AFL/git-repositories/expected-score-model/notebooks/../expected_score_model/domain/preprocessing/data_preprocessor.py:70: SettingWithCopyWarning: \n",
      "A value is trying to be set on a copy of a slice from a DataFrame.\n",
      "Try using .loc[row_indexer,col_indexer] = value instead\n",
      "\n",
      "See the caveats in the documentation: https://pandas.pydata.org/pandas-docs/stable/user_guide/indexing.html#returning-a-view-versus-a-copy\n",
      "  X_shots['Set_Shot'] = X_shots['Event_Type1'].apply(lambda x: (\"Mark\" in x) or (\"Free\" in x))\n"
     ]
    },
    {
     "data": {
      "text/plain": [
       "['../model_outputs/preprocessors/open_goal_preproc.joblib']"
      ]
     },
     "execution_count": 9,
     "metadata": {},
     "output_type": "execute_result"
    }
   ],
   "source": [
    "open_goal_preproc = DataPreprocessor(set_shot=False, model_response = \"Goal\")\n",
    "open_goal_preproc.fit()\n",
    "open_goal_features = open_goal_preproc.transform(chain_data)\n",
    "open_goal_modelling_data = pd.concat([df_open_shots, open_goal_features], axis=1)\n",
    "\n",
    "open_goal_modelling_data = get_stratified_train_test_val_columns(open_goal_modelling_data, response = \"Goal\")\n",
    "open_goal_modelling_data.to_csv(\"../data/open_goal_modelling_data.csv\", index=False)\n",
    "joblib.dump(open_goal_preproc, \"../model_outputs/preprocessors/open_goal_preproc.joblib\")"
   ]
  },
  {
   "attachments": {},
   "cell_type": "markdown",
   "metadata": {},
   "source": [
    "Open Behind"
   ]
  },
  {
   "cell_type": "code",
   "execution_count": 10,
   "metadata": {},
   "outputs": [
    {
     "name": "stderr",
     "output_type": "stream",
     "text": [
      "/Users/ciaran/opt/anaconda3/envs/expected-score-env/lib/python3.9/site-packages/pandas/core/arraylike.py:402: RuntimeWarning: divide by zero encountered in log\n",
      "  result = getattr(ufunc, method)(*inputs, **kwargs)\n",
      "/Users/ciaran/Documents/Projects/AFL/git-repositories/expected-score-model/notebooks/../expected_score_model/domain/preprocessing/data_preprocessor.py:70: SettingWithCopyWarning: \n",
      "A value is trying to be set on a copy of a slice from a DataFrame.\n",
      "Try using .loc[row_indexer,col_indexer] = value instead\n",
      "\n",
      "See the caveats in the documentation: https://pandas.pydata.org/pandas-docs/stable/user_guide/indexing.html#returning-a-view-versus-a-copy\n",
      "  X_shots['Set_Shot'] = X_shots['Event_Type1'].apply(lambda x: (\"Mark\" in x) or (\"Free\" in x))\n"
     ]
    },
    {
     "data": {
      "text/plain": [
       "['../model_outputs/preprocessors/open_behind_preproc.joblib']"
      ]
     },
     "execution_count": 10,
     "metadata": {},
     "output_type": "execute_result"
    }
   ],
   "source": [
    "open_behind_preproc = DataPreprocessor(set_shot=False, model_response = \"Behind\")\n",
    "open_behind_preproc.fit()\n",
    "open_behind_features = open_behind_preproc.transform(chain_data)\n",
    "open_behind_modelling_data = pd.concat([df_open_shots, open_behind_features], axis=1)\n",
    "\n",
    "open_behind_modelling_data = get_stratified_train_test_val_columns(open_behind_modelling_data, response = \"Behind\")\n",
    "open_behind_modelling_data.to_csv(\"../data/open_goal_modelling_data.csv\", index=False)\n",
    "joblib.dump(open_behind_preproc, \"../model_outputs/preprocessors/open_behind_preproc.joblib\")"
   ]
  },
  {
   "attachments": {},
   "cell_type": "markdown",
   "metadata": {},
   "source": [
    "Open Miss"
   ]
  },
  {
   "cell_type": "code",
   "execution_count": 11,
   "metadata": {},
   "outputs": [
    {
     "name": "stderr",
     "output_type": "stream",
     "text": [
      "/Users/ciaran/opt/anaconda3/envs/expected-score-env/lib/python3.9/site-packages/pandas/core/arraylike.py:402: RuntimeWarning: divide by zero encountered in log\n",
      "  result = getattr(ufunc, method)(*inputs, **kwargs)\n",
      "/Users/ciaran/Documents/Projects/AFL/git-repositories/expected-score-model/notebooks/../expected_score_model/domain/preprocessing/data_preprocessor.py:70: SettingWithCopyWarning: \n",
      "A value is trying to be set on a copy of a slice from a DataFrame.\n",
      "Try using .loc[row_indexer,col_indexer] = value instead\n",
      "\n",
      "See the caveats in the documentation: https://pandas.pydata.org/pandas-docs/stable/user_guide/indexing.html#returning-a-view-versus-a-copy\n",
      "  X_shots['Set_Shot'] = X_shots['Event_Type1'].apply(lambda x: (\"Mark\" in x) or (\"Free\" in x))\n"
     ]
    },
    {
     "data": {
      "text/plain": [
       "['../model_outputs/preprocessors/open_miss_preproc.joblib']"
      ]
     },
     "execution_count": 11,
     "metadata": {},
     "output_type": "execute_result"
    }
   ],
   "source": [
    "open_miss_preproc = DataPreprocessor(set_shot=False, model_response = \"Miss\")\n",
    "open_miss_preproc.fit()\n",
    "open_miss_features = open_miss_preproc.transform(chain_data)\n",
    "open_miss_modelling_data = pd.concat([df_open_shots, open_miss_features], axis=1)\n",
    "\n",
    "open_miss_modelling_data = get_stratified_train_test_val_columns(open_miss_modelling_data, response = \"Miss\")\n",
    "open_miss_modelling_data.to_csv(\"../data/open_goal_modelling_data.csv\", index=False)\n",
    "joblib.dump(open_miss_preproc, \"../model_outputs/preprocessors/open_miss_preproc.joblib\")"
   ]
  },
  {
   "cell_type": "code",
   "execution_count": null,
   "metadata": {},
   "outputs": [],
   "source": []
  }
 ],
 "metadata": {
  "kernelspec": {
   "display_name": "expected-score-env",
   "language": "python",
   "name": "python3"
  },
  "language_info": {
   "codemirror_mode": {
    "name": "ipython",
    "version": 3
   },
   "file_extension": ".py",
   "mimetype": "text/x-python",
   "name": "python",
   "nbconvert_exporter": "python",
   "pygments_lexer": "ipython3",
   "version": "3.9.16"
  },
  "orig_nbformat": 4
 },
 "nbformat": 4,
 "nbformat_minor": 2
}
