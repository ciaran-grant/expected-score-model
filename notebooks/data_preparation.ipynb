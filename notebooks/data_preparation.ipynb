{
 "cells": [
  {
   "attachments": {},
   "cell_type": "markdown",
   "metadata": {},
   "source": [
    "# Expected Score Model - Data Preparation"
   ]
  },
  {
   "cell_type": "code",
   "execution_count": 1,
   "metadata": {},
   "outputs": [],
   "source": [
    "import pandas as pd\n",
    "import numpy as np\n",
    "import math\n",
    "from sklearn.model_selection import train_test_split\n",
    "\n",
    "import sys\n",
    "sys.path.append(\"..\")\n",
    "from expected_score_model.config import raw_data_file_path\n",
    "\n",
    "pd.options.display.max_rows = 999\n",
    "pd.options.display.max_columns = 999"
   ]
  },
  {
   "attachments": {},
   "cell_type": "markdown",
   "metadata": {},
   "source": [
    "Import data"
   ]
  },
  {
   "cell_type": "code",
   "execution_count": 2,
   "metadata": {},
   "outputs": [
    {
     "data": {
      "text/html": [
       "<div>\n",
       "<style scoped>\n",
       "    .dataframe tbody tr th:only-of-type {\n",
       "        vertical-align: middle;\n",
       "    }\n",
       "\n",
       "    .dataframe tbody tr th {\n",
       "        vertical-align: top;\n",
       "    }\n",
       "\n",
       "    .dataframe thead th {\n",
       "        text-align: right;\n",
       "    }\n",
       "</style>\n",
       "<table border=\"1\" class=\"dataframe\">\n",
       "  <thead>\n",
       "    <tr style=\"text-align: right;\">\n",
       "      <th></th>\n",
       "      <th>Chain_Number</th>\n",
       "      <th>Initial_State</th>\n",
       "      <th>Final_State</th>\n",
       "      <th>Order</th>\n",
       "      <th>Quarter</th>\n",
       "      <th>Quarter_Duration_Chain_Start</th>\n",
       "      <th>Quarter_Duration</th>\n",
       "      <th>Team_Chain</th>\n",
       "      <th>Team</th>\n",
       "      <th>Player</th>\n",
       "      <th>AFL_API_Player_ID</th>\n",
       "      <th>Description</th>\n",
       "      <th>x</th>\n",
       "      <th>y</th>\n",
       "      <th>Disposal</th>\n",
       "      <th>Shot_At_Goal</th>\n",
       "      <th>Behind_Detail</th>\n",
       "      <th>Venue_Width</th>\n",
       "      <th>Venue_Length</th>\n",
       "      <th>Home_Team</th>\n",
       "      <th>Away_Team</th>\n",
       "      <th>Home_Team_Direction_Q1</th>\n",
       "      <th>Match_ID</th>\n",
       "      <th>Round_ID</th>\n",
       "      <th>Year</th>\n",
       "    </tr>\n",
       "  </thead>\n",
       "  <tbody>\n",
       "    <tr>\n",
       "      <th>0</th>\n",
       "      <td>1</td>\n",
       "      <td>centreBounce</td>\n",
       "      <td>goal</td>\n",
       "      <td>1.0</td>\n",
       "      <td>1</td>\n",
       "      <td>13</td>\n",
       "      <td>13.0</td>\n",
       "      <td>Brisbane Lions</td>\n",
       "      <td>NaN</td>\n",
       "      <td>NaN</td>\n",
       "      <td>NaN</td>\n",
       "      <td>Centre Bounce</td>\n",
       "      <td>0.0</td>\n",
       "      <td>0.0</td>\n",
       "      <td>NaN</td>\n",
       "      <td>NaN</td>\n",
       "      <td>NaN</td>\n",
       "      <td>138</td>\n",
       "      <td>156</td>\n",
       "      <td>Brisbane Lions</td>\n",
       "      <td>Sydney</td>\n",
       "      <td>right</td>\n",
       "      <td>202101_BrisbaneLions_Sydney</td>\n",
       "      <td>202101</td>\n",
       "      <td>2021</td>\n",
       "    </tr>\n",
       "    <tr>\n",
       "      <th>1</th>\n",
       "      <td>1</td>\n",
       "      <td>centreBounce</td>\n",
       "      <td>goal</td>\n",
       "      <td>2.0</td>\n",
       "      <td>1</td>\n",
       "      <td>13</td>\n",
       "      <td>24.0</td>\n",
       "      <td>Brisbane Lions</td>\n",
       "      <td>Brisbane Lions</td>\n",
       "      <td>Dayne Zorko</td>\n",
       "      <td>Dayne_Zorko</td>\n",
       "      <td>Hard Ball Get</td>\n",
       "      <td>8.0</td>\n",
       "      <td>-5.0</td>\n",
       "      <td>NaN</td>\n",
       "      <td>NaN</td>\n",
       "      <td>NaN</td>\n",
       "      <td>138</td>\n",
       "      <td>156</td>\n",
       "      <td>Brisbane Lions</td>\n",
       "      <td>Sydney</td>\n",
       "      <td>right</td>\n",
       "      <td>202101_BrisbaneLions_Sydney</td>\n",
       "      <td>202101</td>\n",
       "      <td>2021</td>\n",
       "    </tr>\n",
       "    <tr>\n",
       "      <th>2</th>\n",
       "      <td>1</td>\n",
       "      <td>centreBounce</td>\n",
       "      <td>goal</td>\n",
       "      <td>3.0</td>\n",
       "      <td>1</td>\n",
       "      <td>13</td>\n",
       "      <td>24.0</td>\n",
       "      <td>Brisbane Lions</td>\n",
       "      <td>Brisbane Lions</td>\n",
       "      <td>Dayne Zorko</td>\n",
       "      <td>Dayne_Zorko</td>\n",
       "      <td>Handball</td>\n",
       "      <td>9.0</td>\n",
       "      <td>-6.0</td>\n",
       "      <td>ineffective</td>\n",
       "      <td>NaN</td>\n",
       "      <td>NaN</td>\n",
       "      <td>138</td>\n",
       "      <td>156</td>\n",
       "      <td>Brisbane Lions</td>\n",
       "      <td>Sydney</td>\n",
       "      <td>right</td>\n",
       "      <td>202101_BrisbaneLions_Sydney</td>\n",
       "      <td>202101</td>\n",
       "      <td>2021</td>\n",
       "    </tr>\n",
       "    <tr>\n",
       "      <th>3</th>\n",
       "      <td>1</td>\n",
       "      <td>centreBounce</td>\n",
       "      <td>goal</td>\n",
       "      <td>4.0</td>\n",
       "      <td>1</td>\n",
       "      <td>13</td>\n",
       "      <td>28.0</td>\n",
       "      <td>Brisbane Lions</td>\n",
       "      <td>Sydney</td>\n",
       "      <td>Oliver Florent</td>\n",
       "      <td>Oliver_Florent</td>\n",
       "      <td>Loose Ball Get</td>\n",
       "      <td>11.0</td>\n",
       "      <td>-7.0</td>\n",
       "      <td>NaN</td>\n",
       "      <td>NaN</td>\n",
       "      <td>NaN</td>\n",
       "      <td>138</td>\n",
       "      <td>156</td>\n",
       "      <td>Brisbane Lions</td>\n",
       "      <td>Sydney</td>\n",
       "      <td>right</td>\n",
       "      <td>202101_BrisbaneLions_Sydney</td>\n",
       "      <td>202101</td>\n",
       "      <td>2021</td>\n",
       "    </tr>\n",
       "    <tr>\n",
       "      <th>4</th>\n",
       "      <td>1</td>\n",
       "      <td>centreBounce</td>\n",
       "      <td>goal</td>\n",
       "      <td>5.0</td>\n",
       "      <td>1</td>\n",
       "      <td>13</td>\n",
       "      <td>29.0</td>\n",
       "      <td>Brisbane Lions</td>\n",
       "      <td>Sydney</td>\n",
       "      <td>Oliver Florent</td>\n",
       "      <td>Oliver_Florent</td>\n",
       "      <td>Handball</td>\n",
       "      <td>12.0</td>\n",
       "      <td>-5.0</td>\n",
       "      <td>effective</td>\n",
       "      <td>NaN</td>\n",
       "      <td>NaN</td>\n",
       "      <td>138</td>\n",
       "      <td>156</td>\n",
       "      <td>Brisbane Lions</td>\n",
       "      <td>Sydney</td>\n",
       "      <td>right</td>\n",
       "      <td>202101_BrisbaneLions_Sydney</td>\n",
       "      <td>202101</td>\n",
       "      <td>2021</td>\n",
       "    </tr>\n",
       "  </tbody>\n",
       "</table>\n",
       "</div>"
      ],
      "text/plain": [
       "   Chain_Number Initial_State Final_State  Order  Quarter  \\\n",
       "0             1  centreBounce        goal    1.0        1   \n",
       "1             1  centreBounce        goal    2.0        1   \n",
       "2             1  centreBounce        goal    3.0        1   \n",
       "3             1  centreBounce        goal    4.0        1   \n",
       "4             1  centreBounce        goal    5.0        1   \n",
       "\n",
       "   Quarter_Duration_Chain_Start  Quarter_Duration      Team_Chain  \\\n",
       "0                            13              13.0  Brisbane Lions   \n",
       "1                            13              24.0  Brisbane Lions   \n",
       "2                            13              24.0  Brisbane Lions   \n",
       "3                            13              28.0  Brisbane Lions   \n",
       "4                            13              29.0  Brisbane Lions   \n",
       "\n",
       "             Team          Player AFL_API_Player_ID     Description     x  \\\n",
       "0             NaN             NaN               NaN   Centre Bounce   0.0   \n",
       "1  Brisbane Lions     Dayne Zorko       Dayne_Zorko   Hard Ball Get   8.0   \n",
       "2  Brisbane Lions     Dayne Zorko       Dayne_Zorko        Handball   9.0   \n",
       "3          Sydney  Oliver Florent    Oliver_Florent  Loose Ball Get  11.0   \n",
       "4          Sydney  Oliver Florent    Oliver_Florent        Handball  12.0   \n",
       "\n",
       "     y     Disposal Shot_At_Goal Behind_Detail  Venue_Width  Venue_Length  \\\n",
       "0  0.0          NaN          NaN           NaN          138           156   \n",
       "1 -5.0          NaN          NaN           NaN          138           156   \n",
       "2 -6.0  ineffective          NaN           NaN          138           156   \n",
       "3 -7.0          NaN          NaN           NaN          138           156   \n",
       "4 -5.0    effective          NaN           NaN          138           156   \n",
       "\n",
       "        Home_Team Away_Team Home_Team_Direction_Q1  \\\n",
       "0  Brisbane Lions    Sydney                  right   \n",
       "1  Brisbane Lions    Sydney                  right   \n",
       "2  Brisbane Lions    Sydney                  right   \n",
       "3  Brisbane Lions    Sydney                  right   \n",
       "4  Brisbane Lions    Sydney                  right   \n",
       "\n",
       "                      Match_ID Round_ID  Year  \n",
       "0  202101_BrisbaneLions_Sydney   202101  2021  \n",
       "1  202101_BrisbaneLions_Sydney   202101  2021  \n",
       "2  202101_BrisbaneLions_Sydney   202101  2021  \n",
       "3  202101_BrisbaneLions_Sydney   202101  2021  \n",
       "4  202101_BrisbaneLions_Sydney   202101  2021  "
      ]
     },
     "execution_count": 2,
     "metadata": {},
     "output_type": "execute_result"
    }
   ],
   "source": [
    "chain_data = pd.read_csv(raw_data_file_path, low_memory=False)\n",
    "chain_data.head()"
   ]
  },
  {
   "attachments": {},
   "cell_type": "markdown",
   "metadata": {},
   "source": [
    "Mapping Response"
   ]
  },
  {
   "cell_type": "code",
   "execution_count": 3,
   "metadata": {},
   "outputs": [],
   "source": [
    "final_state_map = {\n",
    "    'goal':'goal',\n",
    "    'behind':'behind',\n",
    "    'turnover':'miss',\n",
    "    'rushed':'miss',\n",
    "    'outOfBounds':'miss',\n",
    "    'ballUpCall':'miss',\n",
    "    'endQuarter':'miss',\n",
    "    'rushedOpp':'miss',\n",
    "}\n",
    "chain_data['Final_State'] = chain_data['Final_State'].replace(final_state_map)\n",
    "\n",
    "chain_data['Goal'] = np.where((chain_data['Shot_At_Goal'] == True) & (chain_data['Final_State'] == \"goal\"), 1, 0)\n",
    "chain_data['Behind'] = np.where((chain_data['Shot_At_Goal'] == True) & (chain_data['Final_State'] == \"behind\"), 1, 0)\n",
    "chain_data['Miss'] = np.where((chain_data['Shot_At_Goal'] == True) & (chain_data['Final_State'] == \"miss\"), 1, 0)\n",
    "\n",
    "chain_data['Score'] = np.where(chain_data['Goal']==1, 6,\n",
    "                               np.where(chain_data['Behind']==1, 1, \n",
    "                                        0))"
   ]
  },
  {
   "attachments": {},
   "cell_type": "markdown",
   "metadata": {},
   "source": [
    "Getting Current Score"
   ]
  },
  {
   "cell_type": "code",
   "execution_count": 4,
   "metadata": {},
   "outputs": [],
   "source": [
    "chain_data['Home_Score'] = np.where(chain_data['Team'] == chain_data['Home_Team'], chain_data['Score'], 0)\n",
    "chain_data['Away_Score'] = np.where(chain_data['Team'] == chain_data['Away_Team'], chain_data['Score'], 0)"
   ]
  },
  {
   "cell_type": "code",
   "execution_count": 5,
   "metadata": {},
   "outputs": [],
   "source": [
    "chain_data['Home_Current_Score'] = chain_data.groupby(['Match_ID'])['Home_Score'].cumsum().shift(1)\n",
    "chain_data['Away_Current_Score'] = chain_data.groupby(['Match_ID'])['Away_Score'].cumsum().shift(1)\n",
    "chain_data['Current_Margin'] = chain_data['Home_Current_Score'] - chain_data['Away_Current_Score']"
   ]
  },
  {
   "attachments": {},
   "cell_type": "markdown",
   "metadata": {},
   "source": [
    "Getting previous actions in chain"
   ]
  },
  {
   "cell_type": "code",
   "execution_count": 6,
   "metadata": {},
   "outputs": [],
   "source": [
    "chain_data['Event_Type0'] = chain_data['Description']\n",
    "chain_data['Event_Type1'] = chain_data['Description'].shift(1)\n",
    "chain_data['Event_Type2'] = chain_data['Description'].shift(2)\n",
    "chain_data['Event_Type3'] = chain_data['Description'].shift(3)\n",
    "\n",
    "chain_data['x0'] = chain_data['x']\n",
    "chain_data['x1'] = chain_data['x'].shift(1)\n",
    "chain_data['x2'] = chain_data['x'].shift(2)\n",
    "chain_data['x3'] = chain_data['x'].shift(3)\n",
    "\n",
    "chain_data['y0'] = chain_data['y']\n",
    "chain_data['y1'] = chain_data['y'].shift(1)\n",
    "chain_data['y2'] = chain_data['y'].shift(2)\n",
    "chain_data['y3'] = chain_data['y'].shift(3)\n",
    "\n",
    "chain_data['Quarter_Duration0'] = chain_data['Quarter_Duration']\n",
    "chain_data['Quarter_Duration1'] = chain_data['Quarter_Duration'].shift(1)\n",
    "chain_data['Quarter_Duration2'] = chain_data['Quarter_Duration'].shift(2)\n",
    "chain_data['Quarter_Duration3'] = chain_data['Quarter_Duration'].shift(3)"
   ]
  },
  {
   "attachments": {},
   "cell_type": "markdown",
   "metadata": {},
   "source": [
    "Time in Chain"
   ]
  },
  {
   "cell_type": "code",
   "execution_count": 7,
   "metadata": {},
   "outputs": [],
   "source": [
    "chain_data['Chain_Duration'] = chain_data['Quarter_Duration'] - chain_data['Quarter_Duration_Chain_Start']"
   ]
  },
  {
   "attachments": {},
   "cell_type": "markdown",
   "metadata": {},
   "source": [
    "Time and Distance to Last Action"
   ]
  },
  {
   "cell_type": "code",
   "execution_count": 8,
   "metadata": {},
   "outputs": [],
   "source": [
    "chain_data['Time_Since_Last_Action'] = chain_data['Quarter_Duration0'] - chain_data['Quarter_Duration1']\n",
    "chain_data['Distance_Since_Last_Action'] = ((chain_data['x1'] - chain_data['x0'])**2 + (chain_data['y1'] - chain_data['y0'])**2)**0.5"
   ]
  },
  {
   "attachments": {},
   "cell_type": "markdown",
   "metadata": {},
   "source": [
    "Angle and Distance to Goal"
   ]
  },
  {
   "cell_type": "code",
   "execution_count": 9,
   "metadata": {},
   "outputs": [],
   "source": [
    "chain_data['Distance_to_Right_Goal_x'] = chain_data['Venue_Length']/2 - chain_data['x0']\n",
    "chain_data['Distance_to_Middle_y'] = abs(chain_data['y0'])\n",
    "\n",
    "chain_data['Distance_to_Middle_Goal'] = (chain_data['Distance_to_Right_Goal_x']**2 + chain_data['Distance_to_Middle_y']**2)**0.5\n",
    "chain_data['Angle_to_Middle_Goal'] = np.arctan2(chain_data['Distance_to_Middle_y'], chain_data['Distance_to_Right_Goal_x'])\n",
    "chain_data['Angle_to_Middle_Goal_degrees'] = np.degrees(chain_data['Angle_to_Middle_Goal'])\n",
    "\n",
    "chain_data['Visible_Goal_Angle'] = (6.4*chain_data['Distance_to_Right_Goal_x']) / (chain_data['Distance_to_Right_Goal_x']**2 + chain_data['Distance_to_Middle_y']**2-(6.4/2)**2)\n",
    "chain_data['Visible_Goal_Angle_degrees'] = np.degrees(chain_data['Visible_Goal_Angle'])\n",
    "\n",
    "chain_data['Visible_Behind_Angle'] = ((6.4*3)*chain_data['Distance_to_Right_Goal_x']) / (chain_data['Distance_to_Right_Goal_x']**2 + chain_data['Distance_to_Middle_y']**2-((3*6.4)/2)**2)\n",
    "chain_data['Visible_Behind_Angle_degrees'] = np.degrees(chain_data['Visible_Behind_Angle'])"
   ]
  },
  {
   "attachments": {},
   "cell_type": "markdown",
   "metadata": {},
   "source": [
    "Log(Distance) and Distance-squared"
   ]
  },
  {
   "cell_type": "code",
   "execution_count": 10,
   "metadata": {},
   "outputs": [],
   "source": [
    "chain_data['Squared_Distance_to_Middle_Goal'] = chain_data['Distance_to_Right_Goal_x']**2\n",
    "chain_data['Log_Distance_to_Middle_Goal'] = np.log(chain_data['Distance_to_Right_Goal_x'])"
   ]
  },
  {
   "cell_type": "code",
   "execution_count": 11,
   "metadata": {},
   "outputs": [],
   "source": [
    "## Create definition\n",
    "# Counter attack?\n",
    "# travelling towards goal?\n",
    "\n",
    "## Merge player information\n",
    "# Player - number of kicks/shots, kick length, longest kick distance\n",
    "# Player heigh / weight\n",
    "# Left / right footed\n",
    "\n",
    "## Merge Venue information\n",
    "# Venue \n",
    "# Player kicking at home venue? \n",
    "\n",
    "## Merge weather data\n",
    "# Weather?\n",
    "# Wind Speed / Direction"
   ]
  },
  {
   "attachments": {},
   "cell_type": "markdown",
   "metadata": {},
   "source": [
    "Shots"
   ]
  },
  {
   "cell_type": "code",
   "execution_count": 12,
   "metadata": {},
   "outputs": [],
   "source": [
    "df_shots = chain_data[chain_data['Shot_At_Goal'] == True]"
   ]
  },
  {
   "cell_type": "code",
   "execution_count": 13,
   "metadata": {},
   "outputs": [
    {
     "data": {
      "text/html": [
       "<div>\n",
       "<style scoped>\n",
       "    .dataframe tbody tr th:only-of-type {\n",
       "        vertical-align: middle;\n",
       "    }\n",
       "\n",
       "    .dataframe tbody tr th {\n",
       "        vertical-align: top;\n",
       "    }\n",
       "\n",
       "    .dataframe thead th {\n",
       "        text-align: right;\n",
       "    }\n",
       "</style>\n",
       "<table border=\"1\" class=\"dataframe\">\n",
       "  <thead>\n",
       "    <tr style=\"text-align: right;\">\n",
       "      <th></th>\n",
       "      <th>Chain_Number</th>\n",
       "      <th>Initial_State</th>\n",
       "      <th>Final_State</th>\n",
       "      <th>Order</th>\n",
       "      <th>Quarter</th>\n",
       "      <th>Quarter_Duration_Chain_Start</th>\n",
       "      <th>Quarter_Duration</th>\n",
       "      <th>Team_Chain</th>\n",
       "      <th>Team</th>\n",
       "      <th>Player</th>\n",
       "      <th>AFL_API_Player_ID</th>\n",
       "      <th>Description</th>\n",
       "      <th>x</th>\n",
       "      <th>y</th>\n",
       "      <th>Disposal</th>\n",
       "      <th>Shot_At_Goal</th>\n",
       "      <th>Behind_Detail</th>\n",
       "      <th>Venue_Width</th>\n",
       "      <th>Venue_Length</th>\n",
       "      <th>Home_Team</th>\n",
       "      <th>Away_Team</th>\n",
       "      <th>Home_Team_Direction_Q1</th>\n",
       "      <th>Match_ID</th>\n",
       "      <th>Round_ID</th>\n",
       "      <th>Year</th>\n",
       "      <th>Goal</th>\n",
       "      <th>Behind</th>\n",
       "      <th>Miss</th>\n",
       "      <th>Score</th>\n",
       "      <th>Home_Score</th>\n",
       "      <th>Away_Score</th>\n",
       "      <th>Home_Current_Score</th>\n",
       "      <th>Away_Current_Score</th>\n",
       "      <th>Current_Margin</th>\n",
       "      <th>Event_Type0</th>\n",
       "      <th>Event_Type1</th>\n",
       "      <th>Event_Type2</th>\n",
       "      <th>Event_Type3</th>\n",
       "      <th>x0</th>\n",
       "      <th>x1</th>\n",
       "      <th>x2</th>\n",
       "      <th>x3</th>\n",
       "      <th>y0</th>\n",
       "      <th>y1</th>\n",
       "      <th>y2</th>\n",
       "      <th>y3</th>\n",
       "      <th>Quarter_Duration0</th>\n",
       "      <th>Quarter_Duration1</th>\n",
       "      <th>Quarter_Duration2</th>\n",
       "      <th>Quarter_Duration3</th>\n",
       "      <th>Chain_Duration</th>\n",
       "      <th>Time_Since_Last_Action</th>\n",
       "      <th>Distance_Since_Last_Action</th>\n",
       "      <th>Distance_to_Right_Goal_x</th>\n",
       "      <th>Distance_to_Middle_y</th>\n",
       "      <th>Distance_to_Middle_Goal</th>\n",
       "      <th>Angle_to_Middle_Goal</th>\n",
       "      <th>Angle_to_Middle_Goal_degrees</th>\n",
       "      <th>Visible_Goal_Angle</th>\n",
       "      <th>Visible_Goal_Angle_degrees</th>\n",
       "      <th>Visible_Behind_Angle</th>\n",
       "      <th>Visible_Behind_Angle_degrees</th>\n",
       "      <th>Squared_Distance_to_Middle_Goal</th>\n",
       "      <th>Log_Distance_to_Middle_Goal</th>\n",
       "    </tr>\n",
       "  </thead>\n",
       "  <tbody>\n",
       "    <tr>\n",
       "      <th>10</th>\n",
       "      <td>1</td>\n",
       "      <td>centreBounce</td>\n",
       "      <td>goal</td>\n",
       "      <td>11.0</td>\n",
       "      <td>1</td>\n",
       "      <td>13</td>\n",
       "      <td>39.0</td>\n",
       "      <td>Brisbane Lions</td>\n",
       "      <td>Brisbane Lions</td>\n",
       "      <td>Zac Bailey</td>\n",
       "      <td>Zac_Bailey</td>\n",
       "      <td>Kick</td>\n",
       "      <td>26.0</td>\n",
       "      <td>-21.0</td>\n",
       "      <td>effective</td>\n",
       "      <td>True</td>\n",
       "      <td>NaN</td>\n",
       "      <td>138</td>\n",
       "      <td>156</td>\n",
       "      <td>Brisbane Lions</td>\n",
       "      <td>Sydney</td>\n",
       "      <td>right</td>\n",
       "      <td>202101_BrisbaneLions_Sydney</td>\n",
       "      <td>202101</td>\n",
       "      <td>2021</td>\n",
       "      <td>1</td>\n",
       "      <td>0</td>\n",
       "      <td>0</td>\n",
       "      <td>6</td>\n",
       "      <td>6</td>\n",
       "      <td>0</td>\n",
       "      <td>0.0</td>\n",
       "      <td>0.0</td>\n",
       "      <td>0.0</td>\n",
       "      <td>Kick</td>\n",
       "      <td>Handball Received</td>\n",
       "      <td>Handball</td>\n",
       "      <td>Gather from Opposition</td>\n",
       "      <td>26.0</td>\n",
       "      <td>18.0</td>\n",
       "      <td>11.0</td>\n",
       "      <td>6.0</td>\n",
       "      <td>-21.0</td>\n",
       "      <td>-23.0</td>\n",
       "      <td>-26.0</td>\n",
       "      <td>-27.0</td>\n",
       "      <td>39.0</td>\n",
       "      <td>38.0</td>\n",
       "      <td>37.0</td>\n",
       "      <td>36.0</td>\n",
       "      <td>26.0</td>\n",
       "      <td>1.0</td>\n",
       "      <td>8.246211</td>\n",
       "      <td>52.0</td>\n",
       "      <td>21.0</td>\n",
       "      <td>56.080300</td>\n",
       "      <td>0.383818</td>\n",
       "      <td>21.99113</td>\n",
       "      <td>0.106164</td>\n",
       "      <td>6.082774</td>\n",
       "      <td>0.327040</td>\n",
       "      <td>18.737997</td>\n",
       "      <td>2704.0</td>\n",
       "      <td>3.951244</td>\n",
       "    </tr>\n",
       "    <tr>\n",
       "      <th>60</th>\n",
       "      <td>6</td>\n",
       "      <td>possGain</td>\n",
       "      <td>goal</td>\n",
       "      <td>61.0</td>\n",
       "      <td>1</td>\n",
       "      <td>149</td>\n",
       "      <td>168.0</td>\n",
       "      <td>Brisbane Lions</td>\n",
       "      <td>Brisbane Lions</td>\n",
       "      <td>Zac Bailey</td>\n",
       "      <td>Zac_Bailey</td>\n",
       "      <td>Kick</td>\n",
       "      <td>35.0</td>\n",
       "      <td>19.0</td>\n",
       "      <td>effective</td>\n",
       "      <td>True</td>\n",
       "      <td>NaN</td>\n",
       "      <td>138</td>\n",
       "      <td>156</td>\n",
       "      <td>Brisbane Lions</td>\n",
       "      <td>Sydney</td>\n",
       "      <td>right</td>\n",
       "      <td>202101_BrisbaneLions_Sydney</td>\n",
       "      <td>202101</td>\n",
       "      <td>2021</td>\n",
       "      <td>1</td>\n",
       "      <td>0</td>\n",
       "      <td>0</td>\n",
       "      <td>6</td>\n",
       "      <td>6</td>\n",
       "      <td>0</td>\n",
       "      <td>6.0</td>\n",
       "      <td>0.0</td>\n",
       "      <td>6.0</td>\n",
       "      <td>Kick</td>\n",
       "      <td>Handball Received</td>\n",
       "      <td>Handball</td>\n",
       "      <td>Loose Ball Get</td>\n",
       "      <td>35.0</td>\n",
       "      <td>28.0</td>\n",
       "      <td>25.0</td>\n",
       "      <td>22.0</td>\n",
       "      <td>19.0</td>\n",
       "      <td>19.0</td>\n",
       "      <td>26.0</td>\n",
       "      <td>29.0</td>\n",
       "      <td>168.0</td>\n",
       "      <td>167.0</td>\n",
       "      <td>165.0</td>\n",
       "      <td>165.0</td>\n",
       "      <td>19.0</td>\n",
       "      <td>1.0</td>\n",
       "      <td>7.000000</td>\n",
       "      <td>43.0</td>\n",
       "      <td>19.0</td>\n",
       "      <td>47.010637</td>\n",
       "      <td>0.416065</td>\n",
       "      <td>23.83874</td>\n",
       "      <td>0.125105</td>\n",
       "      <td>7.167963</td>\n",
       "      <td>0.389831</td>\n",
       "      <td>22.335680</td>\n",
       "      <td>1849.0</td>\n",
       "      <td>3.761200</td>\n",
       "    </tr>\n",
       "  </tbody>\n",
       "</table>\n",
       "</div>"
      ],
      "text/plain": [
       "    Chain_Number Initial_State Final_State  Order  Quarter  \\\n",
       "10             1  centreBounce        goal   11.0        1   \n",
       "60             6      possGain        goal   61.0        1   \n",
       "\n",
       "    Quarter_Duration_Chain_Start  Quarter_Duration      Team_Chain  \\\n",
       "10                            13              39.0  Brisbane Lions   \n",
       "60                           149             168.0  Brisbane Lions   \n",
       "\n",
       "              Team      Player AFL_API_Player_ID Description     x     y  \\\n",
       "10  Brisbane Lions  Zac Bailey        Zac_Bailey        Kick  26.0 -21.0   \n",
       "60  Brisbane Lions  Zac Bailey        Zac_Bailey        Kick  35.0  19.0   \n",
       "\n",
       "     Disposal Shot_At_Goal Behind_Detail  Venue_Width  Venue_Length  \\\n",
       "10  effective         True           NaN          138           156   \n",
       "60  effective         True           NaN          138           156   \n",
       "\n",
       "         Home_Team Away_Team Home_Team_Direction_Q1  \\\n",
       "10  Brisbane Lions    Sydney                  right   \n",
       "60  Brisbane Lions    Sydney                  right   \n",
       "\n",
       "                       Match_ID Round_ID  Year  Goal  Behind  Miss  Score  \\\n",
       "10  202101_BrisbaneLions_Sydney   202101  2021     1       0     0      6   \n",
       "60  202101_BrisbaneLions_Sydney   202101  2021     1       0     0      6   \n",
       "\n",
       "    Home_Score  Away_Score  Home_Current_Score  Away_Current_Score  \\\n",
       "10           6           0                 0.0                 0.0   \n",
       "60           6           0                 6.0                 0.0   \n",
       "\n",
       "    Current_Margin Event_Type0        Event_Type1 Event_Type2  \\\n",
       "10             0.0        Kick  Handball Received    Handball   \n",
       "60             6.0        Kick  Handball Received    Handball   \n",
       "\n",
       "               Event_Type3    x0    x1    x2    x3    y0    y1    y2    y3  \\\n",
       "10  Gather from Opposition  26.0  18.0  11.0   6.0 -21.0 -23.0 -26.0 -27.0   \n",
       "60          Loose Ball Get  35.0  28.0  25.0  22.0  19.0  19.0  26.0  29.0   \n",
       "\n",
       "    Quarter_Duration0  Quarter_Duration1  Quarter_Duration2  \\\n",
       "10               39.0               38.0               37.0   \n",
       "60              168.0              167.0              165.0   \n",
       "\n",
       "    Quarter_Duration3  Chain_Duration  Time_Since_Last_Action  \\\n",
       "10               36.0            26.0                     1.0   \n",
       "60              165.0            19.0                     1.0   \n",
       "\n",
       "    Distance_Since_Last_Action  Distance_to_Right_Goal_x  \\\n",
       "10                    8.246211                      52.0   \n",
       "60                    7.000000                      43.0   \n",
       "\n",
       "    Distance_to_Middle_y  Distance_to_Middle_Goal  Angle_to_Middle_Goal  \\\n",
       "10                  21.0                56.080300              0.383818   \n",
       "60                  19.0                47.010637              0.416065   \n",
       "\n",
       "    Angle_to_Middle_Goal_degrees  Visible_Goal_Angle  \\\n",
       "10                      21.99113            0.106164   \n",
       "60                      23.83874            0.125105   \n",
       "\n",
       "    Visible_Goal_Angle_degrees  Visible_Behind_Angle  \\\n",
       "10                    6.082774              0.327040   \n",
       "60                    7.167963              0.389831   \n",
       "\n",
       "    Visible_Behind_Angle_degrees  Squared_Distance_to_Middle_Goal  \\\n",
       "10                     18.737997                           2704.0   \n",
       "60                     22.335680                           1849.0   \n",
       "\n",
       "    Log_Distance_to_Middle_Goal  \n",
       "10                     3.951244  \n",
       "60                     3.761200  "
      ]
     },
     "execution_count": 13,
     "metadata": {},
     "output_type": "execute_result"
    }
   ],
   "source": [
    "df_shots.head(2)"
   ]
  },
  {
   "attachments": {},
   "cell_type": "markdown",
   "metadata": {},
   "source": [
    "Filter Open Play v Set Shots"
   ]
  },
  {
   "cell_type": "code",
   "execution_count": 14,
   "metadata": {},
   "outputs": [
    {
     "name": "stderr",
     "output_type": "stream",
     "text": [
      "/var/folders/fm/_t15h8ls56q08qggzncfm73w0000gn/T/ipykernel_77221/68373030.py:1: SettingWithCopyWarning: \n",
      "A value is trying to be set on a copy of a slice from a DataFrame.\n",
      "Try using .loc[row_indexer,col_indexer] = value instead\n",
      "\n",
      "See the caveats in the documentation: https://pandas.pydata.org/pandas-docs/stable/user_guide/indexing.html#returning-a-view-versus-a-copy\n",
      "  df_shots['Set_Shot'] = df_shots['Event_Type1'].apply(lambda x: (\"Mark\" in x) or (\"Free\" in x))\n"
     ]
    }
   ],
   "source": [
    "df_shots['Set_Shot'] = df_shots['Event_Type1'].apply(lambda x: (\"Mark\" in x) or (\"Free\" in x))"
   ]
  },
  {
   "cell_type": "code",
   "execution_count": 15,
   "metadata": {},
   "outputs": [
    {
     "data": {
      "text/plain": [
       "True     11057\n",
       "False     9216\n",
       "Name: Set_Shot, dtype: int64"
      ]
     },
     "execution_count": 15,
     "metadata": {},
     "output_type": "execute_result"
    }
   ],
   "source": [
    "df_shots['Set_Shot'].value_counts()"
   ]
  },
  {
   "cell_type": "code",
   "execution_count": 31,
   "metadata": {},
   "outputs": [],
   "source": [
    "df_set_shots = df_shots[df_shots['Set_Shot']]\n",
    "df_open_shots = df_shots[~df_shots['Set_Shot']]"
   ]
  },
  {
   "attachments": {},
   "cell_type": "markdown",
   "metadata": {},
   "source": [
    "Training, Test, Validation Sets"
   ]
  },
  {
   "cell_type": "code",
   "execution_count": 32,
   "metadata": {},
   "outputs": [],
   "source": [
    "def get_stratified_train_test_val_columns(data, response):\n",
    "    \n",
    "    X, y = data.drop(columns=[response]), data[response]\n",
    "    X_modelling, X_test, y_modelling, y_test = train_test_split(X, y, test_size = 0.2, random_state=2407, stratify=y)\n",
    "    X_train, X_val, y_train, y_val = train_test_split(X_modelling, y_modelling, test_size = 0.2, random_state=2407, stratify=y_modelling)\n",
    "    X_train[response+'TrainingSet'] = True\n",
    "    X_test[response+'TestSet'] = True\n",
    "    X_val[response+'ValidationSet'] = True\n",
    "    \n",
    "    if [response+'TrainingSet', response+'TestSet', response+'ValidationSet'] not in list(data):\n",
    "        data = pd.merge(data, X_train[response+'TrainingSet'], how=\"left\", left_index=True, right_index=True) \n",
    "        data = pd.merge(data, X_test[response+'TestSet'], how=\"left\", left_index=True, right_index=True) \n",
    "        data = pd.merge(data, X_val[response+'ValidationSet'], how=\"left\", left_index=True, right_index=True)\n",
    "        data[[response+'TrainingSet', response+'TestSet', response+'ValidationSet']] = data[[response+'TrainingSet', response+'TestSet', response+'ValidationSet']].fillna(False) \n",
    "        \n",
    "    return data"
   ]
  },
  {
   "cell_type": "code",
   "execution_count": 33,
   "metadata": {},
   "outputs": [],
   "source": [
    "df_set_shots = get_stratified_train_test_val_columns(df_set_shots, response = \"Goal\")\n",
    "df_set_shots = get_stratified_train_test_val_columns(df_set_shots, response = \"Behind\")\n",
    "df_set_shots = get_stratified_train_test_val_columns(df_set_shots, response = \"Miss\")"
   ]
  },
  {
   "cell_type": "code",
   "execution_count": 34,
   "metadata": {},
   "outputs": [],
   "source": [
    "df_open_shots = get_stratified_train_test_val_columns(df_open_shots, response = \"Goal\")\n",
    "df_open_shots = get_stratified_train_test_val_columns(df_open_shots, response = \"Behind\")\n",
    "df_open_shots = get_stratified_train_test_val_columns(df_open_shots, response = \"Miss\")"
   ]
  },
  {
   "cell_type": "code",
   "execution_count": 38,
   "metadata": {},
   "outputs": [
    {
     "data": {
      "text/plain": [
       "(0.5412662521198417, 0.5415913200723327, 0.5415488976823064)"
      ]
     },
     "execution_count": 38,
     "metadata": {},
     "output_type": "execute_result"
    }
   ],
   "source": [
    "df_set_shots[df_set_shots['GoalTrainingSet']]['Goal'].mean(), df_set_shots[df_set_shots['GoalTestSet']]['Goal'].mean(), df_set_shots[df_set_shots['GoalValidationSet']]['Goal'].mean()"
   ]
  },
  {
   "cell_type": "code",
   "execution_count": 39,
   "metadata": {},
   "outputs": [
    {
     "data": {
      "text/plain": [
       "(0.33352176370830977, 0.3336347197106691, 0.33352176370830977)"
      ]
     },
     "execution_count": 39,
     "metadata": {},
     "output_type": "execute_result"
    }
   ],
   "source": [
    "df_set_shots[df_set_shots['BehindTrainingSet']]['Behind'].mean(), df_set_shots[df_set_shots['BehindTestSet']]['Behind'].mean(), df_set_shots[df_set_shots['BehindValidationSet']]['Behind'].mean()"
   ]
  },
  {
   "cell_type": "code",
   "execution_count": 40,
   "metadata": {},
   "outputs": [
    {
     "data": {
      "text/plain": [
       "(0.12507066139061618, 0.1252260397830018, 0.12492933860938384)"
      ]
     },
     "execution_count": 40,
     "metadata": {},
     "output_type": "execute_result"
    }
   ],
   "source": [
    "df_set_shots[df_set_shots['MissTrainingSet']]['Miss'].mean(), df_set_shots[df_set_shots['MissTestSet']]['Miss'].mean(), df_set_shots[df_set_shots['MissValidationSet']]['Miss'].mean()"
   ]
  },
  {
   "cell_type": "code",
   "execution_count": 41,
   "metadata": {},
   "outputs": [
    {
     "data": {
      "text/plain": [
       "(0.4280142445311175, 0.42787418655097614, 0.4277966101694915)"
      ]
     },
     "execution_count": 41,
     "metadata": {},
     "output_type": "execute_result"
    }
   ],
   "source": [
    "df_open_shots[df_open_shots['GoalTrainingSet']]['Goal'].mean(), df_open_shots[df_open_shots['GoalTestSet']]['Goal'].mean(), df_open_shots[df_open_shots['GoalValidationSet']]['Goal'].mean()"
   ]
  },
  {
   "cell_type": "code",
   "execution_count": 42,
   "metadata": {},
   "outputs": [
    {
     "data": {
      "text/plain": [
       "(0.3647617432592844, 0.36496746203904556, 0.36474576271186443)"
      ]
     },
     "execution_count": 42,
     "metadata": {},
     "output_type": "execute_result"
    }
   ],
   "source": [
    "df_open_shots[df_open_shots['BehindTrainingSet']]['Behind'].mean(), df_open_shots[df_open_shots['BehindTestSet']]['Behind'].mean(), df_open_shots[df_open_shots['BehindValidationSet']]['Behind'].mean()"
   ]
  },
  {
   "cell_type": "code",
   "execution_count": 43,
   "metadata": {},
   "outputs": [
    {
     "data": {
      "text/plain": [
       "(0.2072240122095981, 0.20715835140997832, 0.20745762711864407)"
      ]
     },
     "execution_count": 43,
     "metadata": {},
     "output_type": "execute_result"
    }
   ],
   "source": [
    "df_open_shots[df_open_shots['MissTrainingSet']]['Miss'].mean(), df_open_shots[df_open_shots['MissTestSet']]['Miss'].mean(), df_open_shots[df_open_shots['MissValidationSet']]['Miss'].mean()"
   ]
  },
  {
   "attachments": {},
   "cell_type": "markdown",
   "metadata": {},
   "source": [
    "Export .csv"
   ]
  },
  {
   "cell_type": "code",
   "execution_count": null,
   "metadata": {},
   "outputs": [],
   "source": [
    "df_set_shots.to_csv(\"../data/set_shots.csv\", index=False)\n",
    "df_open_shots.to_csv(\"../data/open_shots.csv\", index=False)"
   ]
  },
  {
   "cell_type": "code",
   "execution_count": null,
   "metadata": {},
   "outputs": [],
   "source": []
  }
 ],
 "metadata": {
  "kernelspec": {
   "display_name": "expected-score-env",
   "language": "python",
   "name": "python3"
  },
  "language_info": {
   "codemirror_mode": {
    "name": "ipython",
    "version": 3
   },
   "file_extension": ".py",
   "mimetype": "text/x-python",
   "name": "python",
   "nbconvert_exporter": "python",
   "pygments_lexer": "ipython3",
   "version": "3.9.16"
  },
  "orig_nbformat": 4
 },
 "nbformat": 4,
 "nbformat_minor": 2
}
